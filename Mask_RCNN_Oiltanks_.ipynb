{
  "nbformat": 4,
  "nbformat_minor": 0,
  "metadata": {
    "colab": {
      "provenance": []
    },
    "kernelspec": {
      "name": "python3",
      "display_name": "Python 3"
    },
    "language_info": {
      "name": "python"
    }
  },
  "cells": [
    {
      "cell_type": "markdown",
      "metadata": {
        "id": "qQdvS8UUV8L7"
      },
      "source": [
        "# Oil-Storage Tank Instance Segmentation with Mask R-CNN \n",
        "------\n"
      ]
    },
    {
      "cell_type": "markdown",
      "metadata": {
        "id": "CFYoaKUTWKam"
      },
      "source": [
        "*by Georgios K. Ouzounis*\n",
        "\n",
        "In this notebook, we will experiment with Mask R-CNN model training on custom data using transfer learning and try instance segmentation with our new model. The goal is to segment oil-storage tanks from very-high-resolution satellite images.\n",
        "\n",
        "**Code**\n",
        "\n",
        "The code in this notebook makes use of material gathered and modified from several repos, listed below:\n",
        "- [Mask R-CNN](https://github.com/matterport/Mask_RCNN) by [Matterport, Inc](https://matterport.com/),\n",
        "- [Mask R-CNN extended for TensorFlow2.x](https://github.com/ahmedfgad/Mask-RCNN-TF2) by [Ahmed Gad](https://github.com/ahmedfgad),\n",
        "- [Image to COCO JSON converter](https://github.com/chrise96/image-to-coco-json-converter), by [chrise96](https://github.com/chrise96).\n"
      ]
    },
    {
      "cell_type": "markdown",
      "metadata": {
        "id": "vbyRQKHGua0v"
      },
      "source": [
        "<img src=\"https://github.com/georgiosouzounis/instance-segmentation-mask-rcnn/raw/main/images/banner.jpg\" width=\"800\"/>"
      ]
    },
    {
      "cell_type": "markdown",
      "metadata": {
        "id": "jAGw8-zougmB"
      },
      "source": [
        "**Data**\n",
        "\n",
        "The dataset used is posted on [Kaggle](www.kaggle.com) by [Airbus](https://www.airbus.com/) Defense and Space Intelligence and is titled [Airbus Oil Storage Detection Dataset](https://www.kaggle.com/airbusgeo/airbus-oil-storage-detection-dataset). It is a sample dataset of a larger one uploaded on Kaggle for a competition.\n",
        " \n",
        "It consists of a number of satellite images (RGB bands only) showing oil-storage tanks in various geographies. The annotation data is given in a CSV file containing the bounding boxes of all the tanks that are visually distinctive.\n",
        "\n",
        "Please review the [License here](https://creativecommons.org/licenses/by-nc-sa/4.0/legalcode) and the [Disclaimer here](https://creativecommons.org/licenses/by-nc-sa/4.0/).\n",
        "\n",
        "----"
      ]
    },
    {
      "cell_type": "markdown",
      "metadata": {
        "id": "BeNJ8phsx3nu"
      },
      "source": [
        "## Contents\n",
        "\n",
        "1. [Install libraries](#install-libraries)\n",
        "2. [Get the image dataset](#get-the-image-dataset)\n",
        "3. [Prepare the dataset](#prepare-the-dataset)\n",
        "4. [Get the code](#get-the-code)\n",
        "5. [Get the COCO weights](#get-the-coco-weights)\n",
        "6. [Model Training](#model-training)\n",
        "7. [Model Inference](#model-inference)\n",
        "8. [Conclusions](#conclusions)\n",
        "--------\n"
      ]
    },
    {
      "cell_type": "markdown",
      "metadata": {
        "id": "cv6FJrrrw3Vy"
      },
      "source": [
        " \n",
        "## Install libraries\n",
        " \n",
        "**IMPORTANT:** Change your Runtime to GPU before starting with this notebook\n",
        " \n",
        "**Package compatibility - dependency conflicts**\n",
        " \n",
        "Due to a number of conflicting dependencies between the selected packages, we first need to uninstall the latest versions of Keras and Tensorflow and install older versions in their place. This project was tested successfully using:\n",
        "- tensorflow 2.2.0\n",
        "- keras 2.3.1\n",
        "- h5py 2.10\n",
        " \n",
        "**NOTE:** there is no need to restart the Runtime after installation. If the notebook prompts you to do so, there is something wrong; close it and reopen it, as it may have cached items that trigger conflicts."
      ]
    },
    {
      "cell_type": "code",
      "metadata": {
        "id": "bmtIBLzpvNDl"
      },
      "source": [
        "#Install all the required libraries\n",
        "\n",
        "!pip uninstall keras -y\n",
        "!pip uninstall keras-nightly -y\n",
        "!pip uninstall keras-Preprocessing -y\n",
        "!pip uninstall keras-vis -y\n",
        "!pip uninstall tensorflow -y\n",
        "\n",
        "!pip install tensorflow==2.2.0\n",
        "!pip install keras==2.3.1\n",
        "!pip install h5py==2.10.0"
      ],
      "execution_count": null,
      "outputs": []
    },
    {
      "cell_type": "markdown",
      "metadata": {
        "id": "2DO5kCuBW1oI"
      },
      "source": [
        "the above takes approximately 2.5 mins to complete"
      ]
    },
    {
      "cell_type": "code",
      "metadata": {
        "id": "OKoOAlkpH-2b"
      },
      "source": [
        "# Store the path /content as ROOT_DIR\n",
        "ROOT_DIR = \"/content/\""
      ],
      "execution_count": null,
      "outputs": []
    },
    {
      "cell_type": "markdown",
      "metadata": {
        "id": "pkW5Skz1CWbT"
      },
      "source": [
        "--------\n",
        "## Get the image dataset <a name=\"get-the-image-dataset\"></a>\n",
        "\n",
        "In this section, we will work with a sample image dataset of [oil-storage tanks](https://www.kaggle.com/airbusgeo/airbus-oil-storage-detection-dataset) obtained from [kaggle.com](www.kaggle.com). The dataset is a kind contribution of Airbus."
      ]
    },
    {
      "cell_type": "markdown",
      "metadata": {
        "id": "_8n8CIjmufFw"
      },
      "source": [
        "### Connect to Kaggle.com\n",
        "\n",
        "We will import this dataset into our working session directly from Kaggle. To read more on how to import kaggle datasets directly into Google Colab, please refer to this [documentation page](https://www.kaggle.com/general/74235)."
      ]
    },
    {
      "cell_type": "code",
      "metadata": {
        "id": "tRl583VrulhB"
      },
      "source": [
        "# Below command will help you in accessing the Kaggle APIs from the google colab environment\n",
        "#Install the kaggle API package\n",
        "\n",
        "!pip install -q kaggle"
      ],
      "execution_count": null,
      "outputs": []
    },
    {
      "cell_type": "code",
      "metadata": {
        "id": "gNzBKSG0umA9"
      },
      "source": [
        "# create a configuration directory named .kaggle in the root directory\n",
        "!mkdir ~/.kaggle "
      ],
      "execution_count": null,
      "outputs": []
    },
    {
      "cell_type": "markdown",
      "metadata": {
        "id": "4MPTQz5VuoeZ"
      },
      "source": [
        "Right-click on the side bar and select Upload File in the root directory. Choose your kaggle.json token.\n",
        "\n"
      ]
    },
    {
      "cell_type": "code",
      "metadata": {
        "id": "Go7uKD7gutrx"
      },
      "source": [
        "# move the kaggle.json token file into the root .kaggle directory\n",
        "\n",
        "!mv /content/kaggle.json ~/.kaggle/"
      ],
      "execution_count": null,
      "outputs": []
    },
    {
      "cell_type": "code",
      "metadata": {
        "id": "cxLiobOruw4S"
      },
      "source": [
        "# change the permissions of the file. Here, chmod 600 means that only the owner of the file has full read and write access to it.\n",
        "#So, once a file permission is set to 600, no one else can access the file.\n",
        "\n",
        "!chmod 600 ~/.kaggle/kaggle.json"
      ],
      "execution_count": null,
      "outputs": []
    },
    {
      "cell_type": "code",
      "metadata": {
        "id": "WxUgmYrSu2He"
      },
      "source": [
        "# Let's test the kaggle API installed\n",
        "#Below command will show a list of the datasets available\n",
        "\n",
        "!kaggle datasets list"
      ],
      "execution_count": null,
      "outputs": []
    },
    {
      "cell_type": "markdown",
      "metadata": {
        "id": "DL6vdSZPu4Q0"
      },
      "source": [
        "### Get the dataset"
      ]
    },
    {
      "cell_type": "code",
      "metadata": {
        "id": "HN8-qnrTvAke"
      },
      "source": [
        "# Create a directory /dataset where you will be storing the airbus dataset from kaggle\n",
        "\n",
        "%cd /content/\n",
        "%mkdir dataset\n",
        "%cd dataset/"
      ],
      "execution_count": null,
      "outputs": []
    },
    {
      "cell_type": "code",
      "metadata": {
        "id": "Z6ne_BMbPCFK"
      },
      "source": [
        "#Download the airbus data from kaggle in the dataset directory\n",
        "# Zipped file containing all the relavant information will be downloaded\n",
        "!kaggle datasets download airbusgeo/airbus-oil-storage-detection-dataset"
      ],
      "execution_count": null,
      "outputs": []
    },
    {
      "cell_type": "markdown",
      "metadata": {
        "id": "BsAM-nTGvDe0"
      },
      "source": [
        "the above takes approximately 20 sec to complete"
      ]
    },
    {
      "cell_type": "code",
      "metadata": {
        "id": "Of2A5GSVMoxH"
      },
      "source": [
        "#Unzip the zipped file of the downloaded dataset in /dataset directory\n",
        "# After successful unzipping, if you go to the dataset directory, you should lot of jpg files\n",
        "\n",
        "!unzip airbus-oil-storage-detection-dataset.zip"
      ],
      "execution_count": null,
      "outputs": []
    },
    {
      "cell_type": "code",
      "metadata": {
        "id": "jk2NI3RuM027"
      },
      "source": [
        "#Remove the zipped files after successful unzipping of the files to save space\n",
        "\n",
        "!rm *.zip"
      ],
      "execution_count": null,
      "outputs": []
    },
    {
      "cell_type": "code",
      "metadata": {
        "id": "pYPWRrCNJu6C"
      },
      "source": [
        "#Define the path /content/dataset as DATA_DIR\n",
        "DATA_DIR = '/content/dataset'"
      ],
      "execution_count": null,
      "outputs": []
    },
    {
      "cell_type": "markdown",
      "metadata": {
        "id": "AbAoVyEoXCoW"
      },
      "source": [
        "--------\n",
        "## Prepare the dataset <a name=\"prepare-the-dataset\"></a>\n",
        " \n",
        "The objective here is to crop each image into same-size chips, each containing one oil tank, using the bounding box coordinates.\n",
        " \n",
        "For each tank, we need to create a binary reference mask. Each mask will be created by drawing a disk centered at the x-y midpoint of the bounding box and having a diameter equal to the side of the bounding box.\n",
        " \n",
        "The idea here is:\n",
        "1. to reduce the size of the images going into the network without sacrificing spatial resolution, i.e., by resizing the input;\n",
        "2. fit multiple chips into the GPU, and thus speed up the training\n",
        " \n",
        "These images will be stored in a new data-set, which in turn will need to be separated into training and validation subsets.\n",
        " \n",
        "With these done, the last step is to create vector annotations, compatible with the MS COCO format, and place them in the appropriate directories.\n",
        "\n",
        "The new data-set directory structure should look like:\n",
        "\n",
        "```\n",
        "/content/\n",
        "  |\n",
        "  |-- newdataset/\n",
        "  |   |-- train/\n",
        "  |   |   |--img001.jpg\n",
        "  |   |   |--img002.jpg\n",
        "  |   |   `--annotations.json\n",
        "  |   |\n",
        "  |   |-- val/\n",
        "  |   |   |--img100.jpg\n",
        "  |   |   |--img101.jpg\n",
        "  |   |   `--annotations.json\n",
        "  |   |\n",
        "  |   `-- masks/\n",
        "  |       |--img001.png\n",
        "  |       |--img002.png\n",
        "  |       |--img100.png\n",
        "  |       `--img101.png\n",
        "  |\n",
        "  `-- Mask_RCNN/\n",
        "      |-- logs/\n",
        "      |   `-- weights.h5\n",
        "      |-- train.py\n",
        "      |-- .gitignore\n",
        "      |-- LICENCE\n",
        "      `-- etc..\n",
        "```\n",
        "\n",
        "The ```newdataset/train``` and ```newdataset/val``` directories store the images selected for training and validation, respectively, at a ratio of approximately 90% to 10% of the total number of images, and the respective annotation files (json).\n",
        "\n",
        "The ```dataset/masks``` directory contains all the mask images of the dataset."
      ]
    },
    {
      "cell_type": "code",
      "metadata": {
        "id": "-VxUD4WVXKck"
      },
      "source": [
        "# import some relevant libraries\n",
        "import sys\n",
        "import math\n",
        "import numpy as np\n",
        "import cv2\n",
        "import json\n",
        "import pandas as pd \n",
        "import glob\n",
        "import os\n",
        "import random"
      ],
      "execution_count": null,
      "outputs": []
    },
    {
      "cell_type": "markdown",
      "metadata": {
        "id": "5UO3UktBYEcW"
      },
      "source": [
        "Read the annotation file"
      ]
    },
    {
      "cell_type": "code",
      "metadata": {
        "id": "7QsWmh3KO_Vw"
      },
      "source": [
        "# Read the annotations file using read_csv command\n",
        "anns = pd.read_csv(os.path.join(DATA_DIR, 'annotations.csv'))\n",
        "#Print the annotation file you just read; it has three columns: image_id, class, bounds\n",
        "anns.head()\n"
      ],
      "execution_count": null,
      "outputs": []
    },
    {
      "cell_type": "markdown",
      "source": [
        "As you saw, annotation file has three coloumns: image_id, class, bound\n",
        "\n",
        "The \"bound\" column carries information about the coordinates of the bounding box. The coordinates stored are for the top-left corner and the bottom-right corner of the image.\n",
        "\n",
        "![image.png](data:image/png;base64,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)"
      ],
      "metadata": {
        "id": "FncEPtAZyoQU"
      }
    },
    {
      "cell_type": "code",
      "metadata": {
        "id": "zDnZJMiEJDR0"
      },
      "source": [
        "#let's print the total number of annotated instances in the dataset\n",
        "print(\"There are a total of: \" + str(len(anns)) + \" annotated tank instances\")"
      ],
      "execution_count": null,
      "outputs": []
    },
    {
      "cell_type": "markdown",
      "metadata": {
        "id": "xn1bd2DhYJWd"
      },
      "source": [
        "Create a new dataframe that stores the bbox coordinates of each tank for each training image"
      ]
    },
    {
      "cell_type": "code",
      "metadata": {
        "colab": {
          "base_uri": "https://localhost:8080/",
          "height": 49
        },
        "id": "3SIPYq9XO_YE",
        "outputId": "6a6a3d7d-a67c-4063-b78a-f3f07103a5a7"
      },
      "source": [
        "# create an empty DataFrame with the column names only\n",
        "# The dataframe will store the following information:\n",
        "#1. image_id is the image name and the unique identifier of the image\n",
        "#2. x and y are the coordinates for the top-left corner of the bounding box\n",
        "#3. width and height capture the dimensions of the bounding box\n",
        "#4. class_id stores the class associated with the bounding box\n",
        "\n",
        "annotations = pd.DataFrame(columns = ['image_id', 'x', 'y', 'width', 'height', 'class_id'])\n",
        "annotations"
      ],
      "execution_count": null,
      "outputs": [
        {
          "output_type": "execute_result",
          "data": {
            "text/html": [
              "<div>\n",
              "<style scoped>\n",
              "    .dataframe tbody tr th:only-of-type {\n",
              "        vertical-align: middle;\n",
              "    }\n",
              "\n",
              "    .dataframe tbody tr th {\n",
              "        vertical-align: top;\n",
              "    }\n",
              "\n",
              "    .dataframe thead th {\n",
              "        text-align: right;\n",
              "    }\n",
              "</style>\n",
              "<table border=\"1\" class=\"dataframe\">\n",
              "  <thead>\n",
              "    <tr style=\"text-align: right;\">\n",
              "      <th></th>\n",
              "      <th>image_id</th>\n",
              "      <th>x</th>\n",
              "      <th>y</th>\n",
              "      <th>width</th>\n",
              "      <th>height</th>\n",
              "      <th>class_id</th>\n",
              "    </tr>\n",
              "  </thead>\n",
              "  <tbody>\n",
              "  </tbody>\n",
              "</table>\n",
              "</div>"
            ],
            "text/plain": [
              "Empty DataFrame\n",
              "Columns: [image_id, x, y, width, height, class_id]\n",
              "Index: []"
            ]
          },
          "metadata": {
            "tags": []
          },
          "execution_count": 17
        }
      ]
    },
    {
      "cell_type": "code",
      "metadata": {
        "id": "1O9sfk-UO_a_"
      },
      "source": [
        "# shape up this dataframe to be compatible with the COCO format;\n",
        "# good for processing the images in their entirety\n",
        " \n",
        "#iterate through the original dataframe (anns)\n",
        "\n",
        "for index, row in anns.iterrows():\n",
        "#let's append file extension; this will be needed later\n",
        "    fname = anns.iloc[index]['image_id'] + '.jpg'\n",
        "\n",
        "#access the \"bounds\" column and remove the parentheses in the starting and ending of the bounding column\n",
        "    this_row = anns.iloc[index]['bounds']\n",
        "    res = this_row.replace('(', '')\n",
        "    res = res.replace(')', '')\n",
        "#after removing the starting and ending parentheses, you will be left with the comma separated the string like \"1205, 1493, 1231, 1516\"\n",
        "#you can split the string into a substring to access the x,y coordinates\n",
        "\n",
        "    bbox_list = res.split(\",\")\n",
        "\n",
        "# extract the bbox attributes of each instance annotation\n",
        "#x,y will store the coordinates of the top left vertex of the bounding box\n",
        "\n",
        "    x = int(bbox_list[0])\n",
        "    y = int(bbox_list[1])\n",
        "#w,h will store information about the width and height of the bounding box\n",
        "    w = int(bbox_list[2]) - int(bbox_list[0]) + 1\n",
        "    h = int(bbox_list[3]) - int(bbox_list[1]) + 1\n",
        "# append them in the new dataframe\n",
        "    annotations = annotations.append({'image_id' : fname, 'x' : x, 'y' : y, \n",
        "                                      'width' :  w, 'height': h, 'class_id' : 1}, \n",
        "                                     ignore_index = True)"
      ],
      "execution_count": null,
      "outputs": []
    },
    {
      "cell_type": "markdown",
      "metadata": {
        "id": "7MEFqr0HPmiU"
      },
      "source": [
        "The above process takes approximately 1 min to complete"
      ]
    },
    {
      "cell_type": "code",
      "metadata": {
        "id": "8Dwt_UoyI0sW"
      },
      "source": [
        "#to check that all the annotation data has been appended correctly, we will try printing all the relevant data\n",
        "print(\"There are a total of: \" + str(len(annotations)) + \" annotated tank instances\")\n",
        "print(\"and \" + str(len(annotations.columns)) + \" columns\")"
      ],
      "execution_count": null,
      "outputs": []
    },
    {
      "cell_type": "code",
      "metadata": {
        "id": "VLjd-i_TJs2U"
      },
      "source": [
        "# get the max width and height of tanks from all the instances using the max function\n",
        "#This will help us in deciding the appropriate chip sizes\n",
        "max_width = annotations[\"width\"].max()\n",
        "max_height = annotations[\"height\"].max()\n",
        "max_width, max_height"
      ],
      "execution_count": null,
      "outputs": []
    },
    {
      "cell_type": "code",
      "metadata": {
        "id": "BCuNfHQCFbUk"
      },
      "source": [
        "# Let's define the chip size that ensures all the instances fit within it\n",
        "CHIP_SIDE = 128"
      ],
      "execution_count": null,
      "outputs": []
    },
    {
      "cell_type": "code",
      "metadata": {
        "id": "co_cI2bCSjwW"
      },
      "source": [
        "# Parse all the images from a given directory in a list\n",
        "def get_images(img_dir):\n",
        "    image_set = glob.glob(img_dir+'/'+'*.jpg')\n",
        "    return list(set(image_set))"
      ],
      "execution_count": null,
      "outputs": []
    },
    {
      "cell_type": "code",
      "metadata": {
        "id": "yS1Ry4eRPnuf"
      },
      "source": [
        "#get all the images from the /content/dataset/images directory and parse it to a list\n",
        "\n",
        "PATH2IMG = '/content/dataset/images/'\n",
        "image_set = get_images(PATH2IMG)"
      ],
      "execution_count": null,
      "outputs": []
    },
    {
      "cell_type": "markdown",
      "metadata": {
        "id": "3oHdstlIWT4s"
      },
      "source": [
        "### Create the chip and mask dataset\n",
        " \n",
        "In this section, we will use the dataframe created earlier to:\n",
        "1. Cut out same-size instance chips from the training images\n",
        "2. create training masks by drawing maximal disks within the bounds of each instance bbox\n",
        "3. create unique names for all the chips and store them along with the masks in a new directory\n"
      ]
    },
    {
      "cell_type": "markdown",
      "metadata": {
        "id": "y-mDKOOXr5oy"
      },
      "source": [
        "<img src=\"https://miro.medium.com/max/1400/1*p7GqDO8sfSX7kb8R9kX3cQ.png\" width=\"500\"/>"
      ]
    },
    {
      "cell_type": "code",
      "metadata": {
        "id": "QlPJzSpOKg1P"
      },
      "source": [
        "#make relevant directories to store the relevant image files\n",
        "%mkdir /content/newdataset/\n",
        "#This subdirectory will store the chips’ details\n",
        "%mkdir /content/newdataset/images/\n",
        "#This subdirectory will store the masks’ details\n",
        "%mkdir /content/newdataset/masks/\n",
        "DATA_DIR = \"/content/newdataset/\""
      ],
      "execution_count": null,
      "outputs": []
    },
    {
      "cell_type": "code",
      "metadata": {
        "id": "-RRUJv1XK3JO"
      },
      "source": [
        "# create an empty DataFrame with column names only to store the annotation file details\n",
        "\n",
        "new_annotations = pd.DataFrame(columns = ['image_id', 'x', 'y', 'width', 'height', 'class_id'])"
      ],
      "execution_count": null,
      "outputs": []
    },
    {
      "cell_type": "code",
      "metadata": {
        "id": "JfsJcaQTK-nX",
        "colab": {
          "base_uri": "https://localhost:8080/"
        },
        "outputId": "a44e89bf-6b3e-480d-a647-321e8abb4cdf"
      },
      "source": [
        " \n",
        "# Iterate\n",
        "PATH2CHIP = '/content/newdataset/images/'\n",
        "PATH2MASK = '/content/newdataset/masks/'\n",
        " \n",
        "#Iterate through each image\n",
        "for i in range(len(image_set)):\n",
        "  img = cv2.imread(image_set[i])\n",
        " \n",
        "  # create a temp DF that contains all the annotations for a given input image\n",
        "  new_df = annotations.loc[PATH2IMG + annotations['image_id'] == image_set[i]]\n",
        "  # reset its index to start from 0\n",
        "  new_df.reset_index(drop=True, inplace=True)\n",
        " \n",
        "  for index, row in new_df.iterrows():\n",
        "      # get the filename and add the index and the .PNG extension to it\n",
        "      this_row = new_df.iloc[index]['image_id']\n",
        "      fname = this_row.split(\".\")[0] + '_' + str(index) + \".png\"\n",
        "      # get the bbox attributes\n",
        "      this_x = new_df.iloc[index]['x']\n",
        "      this_y = new_df.iloc[index]['y']\n",
        "      this_w = new_df.iloc[index]['width']\n",
        "      this_h = new_df.iloc[index]['height']\n",
        " \n",
        "      # check that the attributes are good\n",
        "      if this_w>=1 and this_h>=1:\n",
        "        #  create the chip\n",
        "        blank_image = np.zeros((CHIP_SIDE,CHIP_SIDE,3), np.uint8)\n",
        "        # get the end point x,y-coordinates to define an roi\n",
        "        end_x = this_x + this_w - 1\n",
        "        end_y = this_y + this_h - 1\n",
        "        # the roi contains the desired image patch\n",
        "        roi = img[this_y:end_y, this_x:end_x]\n",
        "        # copy the roi into the top-left part of the blank image\n",
        "        blank_image[:roi.shape[0], :roi.shape[1]]=roi\n",
        "        cv2.imwrite(PATH2CHIP + fname, blank_image)\n",
        "       \n",
        "        # create the mask\n",
        "        blank_image = np.zeros((CHIP_SIDE,CHIP_SIDE,3), np.uint8)\n",
        "        mid_x = int(this_w/2)\n",
        "        mid_y = int(this_h/2)\n",
        "        cv2.circle(blank_image,(mid_x,mid_y), mid_x, (255,255,255), -1)\n",
        "        cv2.imwrite(PATH2MASK + fname, blank_image)\n",
        " \n",
        "        # append the updated info in the new annotation DF\n",
        "        new_annotations = new_annotations.append({'image_id' : fname, 'x' : 0, 'y' : 0,\n",
        "                                          'width' :  this_w, 'height': this_h, 'class_id' : 1},\n",
        "                                        ignore_index = True)\n",
        "      else:\n",
        "        print('WARNING: skipping chip ' + fname)"
      ],
      "execution_count": null,
      "outputs": [
        {
          "output_type": "stream",
          "text": [
            "WARNING: skipping chip 285e6333-af23-4d4c-b029-28f615fc4e71_98.png\n"
          ],
          "name": "stdout"
        }
      ]
    },
    {
      "cell_type": "markdown",
      "metadata": {
        "id": "QMtt9ceZPw9P"
      },
      "source": [
        "the above process takes approximately 1 min to complete"
      ]
    },
    {
      "cell_type": "code",
      "metadata": {
        "id": "yL_q67aFOEJz",
        "colab": {
          "base_uri": "https://localhost:8080/"
        },
        "outputId": "cc22a2e2-7aa3-4f66-c4fa-361c6bd816ff"
      },
      "source": [
        "#to verify, print the number of annotations \n",
        "print(len(new_annotations))\n",
        "print(len(new_annotations.columns))"
      ],
      "execution_count": null,
      "outputs": [
        {
          "output_type": "stream",
          "text": [
            "13591\n",
            "6\n"
          ],
          "name": "stdout"
        }
      ]
    },
    {
      "cell_type": "code",
      "metadata": {
        "id": "uKBaistG4v2R"
      },
      "source": [
        "# do some clean-up to optimize the space\n",
        "%rm -r /content/dataset/"
      ],
      "execution_count": null,
      "outputs": []
    },
    {
      "cell_type": "markdown",
      "metadata": {
        "id": "3sDGbB59Xnmp"
      },
      "source": [
        "### Split the images to training and validation sets"
      ]
    },
    {
      "cell_type": "code",
      "metadata": {
        "id": "SvzKwpCaX9Z_"
      },
      "source": [
        "#create seperate directories to store training ad validation datasets\n",
        "%mkdir /content/newdataset/train/\n",
        "%mkdir /content/newdataset/val/"
      ],
      "execution_count": null,
      "outputs": []
    },
    {
      "cell_type": "code",
      "metadata": {
        "id": "gnGlTaziXt2q"
      },
      "source": [
        "from sklearn.model_selection import train_test_split\n",
        "import shutil\n",
        "\n",
        "# set the path to the images\n",
        "PATH = '/content/newdataset/images/'\n",
        "\n",
        "# get all the image filenames\n",
        "list_img=[img for img in os.listdir(PATH) if img.endswith('.png')==True]\n",
        "\n",
        "# convert the list to a dataframe\n",
        "df = pd.DataFrame(list_img)\n",
        "\n",
        "# split \n",
        "data_train, data_val, labels_train, labels_test = train_test_split(df[0], df.index, test_size=0.10, random_state=42)\n",
        "\n",
        "# get the indices of the train and validation DFs\n",
        "train_idx=list(data_train.index)\n",
        "val_idx=list(data_val.index)"
      ],
      "execution_count": null,
      "outputs": []
    },
    {
      "cell_type": "code",
      "metadata": {
        "id": "aw0FupFgX5An"
      },
      "source": [
        "# absolute path to the training directory \n",
        "TRAIN_PATH = \"/content/newdataset/train/\"\n",
        "\n",
        "# move the training images to TRAIN_PATH\n",
        "for i in range(len(train_idx)):\n",
        "  source = PATH2CHIP + data_train[train_idx[i]]\n",
        "  destination = TRAIN_PATH + data_train[train_idx[i]]\n",
        "  dest = shutil.move(source, destination) "
      ],
      "execution_count": null,
      "outputs": []
    },
    {
      "cell_type": "code",
      "metadata": {
        "id": "SE83vIjJYY1a"
      },
      "source": [
        "# absolute path to the validation directory \n",
        "VAL_PATH = \"/content/newdataset/val/\"\n",
        "\n",
        "# move the training images to VAL_PATH\n",
        "for i in range(len(val_idx)):\n",
        "  source = PATH2CHIP + data_val[val_idx[i]]\n",
        "  destination = VAL_PATH + data_val[val_idx[i]]\n",
        "  dest = shutil.move(source, destination) "
      ],
      "execution_count": null,
      "outputs": []
    },
    {
      "cell_type": "code",
      "metadata": {
        "id": "DOPLZAlr4fIh"
      },
      "source": [
        "# do some clean-up\n",
        "%rm -r /content/newdataset/images/"
      ],
      "execution_count": null,
      "outputs": []
    },
    {
      "cell_type": "markdown",
      "metadata": {
        "id": "CEDXlrCuWZis"
      },
      "source": [
        "### Annotate the chip masks \n",
        "\n",
        " \n",
        "In this section, we will create an MS-COCO-compatible annotation file (.JSON) for each of the two sets\n",
        " \n",
        "Let us first review the targeted layout. At a top level, the json file contains the following:\n",
        "```\n",
        "{\n",
        "  \"info\"         : info,\n",
        "  \"licenses\"     : [license],\n",
        "  \"images\"       : [image],\n",
        "  \"annotations\"  : [annotation],\n",
        "  \"categories\"   : [category],\n",
        "}\n",
        "```\n",
        "\n",
        "which extend to the following:\n",
        "```\n",
        "info{\n",
        "  \"year\"          : int, \n",
        "  \"version\"       : str,\n",
        "  \"description\"   : str,\n",
        "  \"contributor\"   : str,\n",
        "  \"url\"           : str,\n",
        "  \"date_captured\" : datetime,\n",
        "}\n",
        "\n",
        "license[{\n",
        "  \"id\"            : int,\n",
        "  \"name\"          : str,\n",
        "  \"url\"           : str,\n",
        "}]\n",
        "\n",
        "image[{\n",
        "  \"id\"            : int,\n",
        "  \"width\"         : int,\n",
        "  \"height\"        : int,\n",
        "  \"file_name\"     : str,\n",
        "  \"license\"       : int,\n",
        "  \"flickr_url\"    : str,\n",
        "  \"coco_url\"      : str,\n",
        "  \"date_captured\" : datetime,\n",
        "}]\n",
        "\n",
        "categories[{\n",
        "  \"id\"            : int,\n",
        "  \"name\"          : str,\n",
        "  \"supercategory\" : str,\n",
        "}]\n",
        "\n",
        "annotation[{\n",
        "  \"id\"            : int,\n",
        "  \"image_id\"      : int,\n",
        "  \"category_id\"   : int,\n",
        "  \"segmentation\"  : RLE or [polygon]\n",
        "  \"area\"          : float,\n",
        "  \"bbox\"          : [x, y, width, height],\n",
        "  \"iscrowd\"       : 0 or 1,\n",
        "}]\n",
        "```"
      ]
    },
    {
      "cell_type": "code",
      "metadata": {
        "id": "19pmbvCJW083"
      },
      "source": [
        "# get the relevant file - annotation code\n",
        "!wget https://raw.githubusercontent.com/georgiosouzounis/instance-segmentation-mask-rcnn/main/annotation/mask2image.py -O /content/mask2image.py"
      ],
      "execution_count": null,
      "outputs": []
    },
    {
      "cell_type": "code",
      "metadata": {
        "id": "hVBGLKHHW6am"
      },
      "source": [
        "from mask2image import *\n",
        "import glob\n",
        " \n",
        "# Label the ids of the dataset\n",
        "#Since we have only one class for segmentation, category_ids will have just one attribute, \"oiltanks,\" with the label of 1\n",
        "category_ids = {\n",
        "    \"oiltank\": 1\n",
        "}\n",
        " \n",
        "#Define the mask color as white, which will be matched to category 1 (oiltanks)\n",
        "# Define which colors match which categories in the images\n",
        "category_colors = {\n",
        "    \"(255, 255, 255)\": 1 # oil-tank\n",
        "}\n",
        " \n",
        "# Define the ids that are a multipolygon - none in this case.\n",
        "#multipolygon ids are used for annotating objects that appear to be segmented in multiple segments but are all parts of the same object\n",
        "multipolygon_ids = []\n",
        " \n",
        " \n",
        "# background color\n",
        "#let's define the background color as black; hence, intensity will be 0\n",
        "background_color_tupple = (0, 0, 0)"
      ],
      "execution_count": null,
      "outputs": []
    },
    {
      "cell_type": "code",
      "metadata": {
        "id": "wfHA3Wy0XJeu"
      },
      "source": [
        " \n",
        "# Get \"images\" and \"annotations\" info that needs to be placed in the json file\n",
        "def images_annotations_info(maskpath, image_names, image_idx, background_color_tupple):\n",
        "    # This id will be automatically increased as we proceed\n",
        "    annotation_id = 0\n",
        "    image_id = 0\n",
        "    annotations = []\n",
        "    images = []\n",
        "   \n",
        "    # iterate through all images\n",
        "    for i in range(len(image_idx)):\n",
        "        # get the file name\n",
        "        image_name = image_names[image_idx[i]]\n",
        "        # the mask image is *.png but the original image can be *.jpg.\n",
        "        # we make a reference to the original file in the COCO JSON file\n",
        "        mask_image = os.path.basename(image_name).split(\".\")[0] + \".png\"\n",
        "        # open the mask image and extract its width and height\n",
        "        mask_image_open = Image.open(maskpath + mask_image).convert(\"RGB\")\n",
        "        w, h = mask_image_open.size\n",
        "       \n",
        "        # get the \"image\" info block, which is compatible with the MS COCO format, and append it to the \"image\" list\n",
        "        image = create_image_annotation(image_name, w, h, image_id)\n",
        "        images.append(image)\n",
        " \n",
        "        # get the \"annotations\" info block:\n",
        "        # first, create one mask per class (category_colors)\n",
        "        #so, for every every class of the object that is present in the annotation data, we need to create a separate mask\n",
        "        #in our case, since we have only one mask, just one submask will be returned\n",
        " \n",
        "        sub_masks = create_sub_masks(mask_image_open, w, h, background_color_tupple)\n",
        "        for color, sub_mask in sub_masks.items():\n",
        "            category_id = category_colors[color]\n",
        " \n",
        "            # create the vector representation of the object contours\n",
        "            # and get the \"annotations\" info block\n",
        "            polygons, segmentations = create_sub_mask_annotation(sub_mask)\n",
        " \n",
        "            # Check if we have classes that are a multipolygon\n",
        "            if category_id in multipolygon_ids:\n",
        "                # Combine the polygons to calculate the bounding box and area\n",
        "                multi_poly = MultiPolygon(polygons)\n",
        "                 #here, we are trying to get only the relevant information, which will be populated in the \"annotations\" list in the json file\n",
        "           \n",
        "                annotation = create_annotation_format(multi_poly, segmentations, image_id, category_id, annotation_id)\n",
        " \n",
        "                annotations.append(annotation)\n",
        " \n",
        "                #Increase the anootation_id value by 1 in each iteration\n",
        "                annotation_id += 1\n",
        "            else:\n",
        "                for i in range(len(polygons)):\n",
        "                    # Cleaner to recalculate this variable\n",
        "                    #here, we are trying to get only the relevant information, which will be populated in the \"annotations\" list in the json file\n",
        "                    segmentation = [np.array(polygons[i].exterior.coords).ravel().tolist()]\n",
        "                   \n",
        "                    annotation = create_annotation_format(polygons[i], segmentation, image_id, category_id, annotation_id)\n",
        "                   \n",
        "                    annotations.append(annotation)\n",
        "                    annotation_id += 1\n",
        "        image_id += 1\n",
        "    return images, annotations, annotation_id\n",
        "   \n"
      ],
      "execution_count": null,
      "outputs": []
    },
    {
      "cell_type": "markdown",
      "metadata": {
        "id": "hyKLLDRqbGbc"
      },
      "source": [
        "### compute the training set annotations"
      ]
    },
    {
      "cell_type": "code",
      "metadata": {
        "id": "mTjkfgZEbFRt"
      },
      "source": [
        "# Get the standard COCO JSON format - template\n",
        "coco_format = get_coco_json_format()"
      ],
      "execution_count": null,
      "outputs": []
    },
    {
      "cell_type": "code",
      "metadata": {
        "id": "pFkZWzjrbKei"
      },
      "source": [
        "# create the output file\n",
        "#for now, this file will be empty\n",
        "!touch /content/newdataset/train/annotations.json"
      ],
      "execution_count": null,
      "outputs": []
    },
    {
      "cell_type": "code",
      "metadata": {
        "colab": {
          "base_uri": "https://localhost:8080/"
        },
        "id": "fkcPkWmhbOfn",
        "outputId": "985073b5-1289-4122-938a-2f9c8a7b2566"
      },
      "source": [
        "# path to the annotation file\n",
        "ANNOTATION_PATH = \"/content/newdataset/train/annotations.json\"\n",
        "\n",
        "# Create a category section using the create_category_annotation function\n",
        "coco_format[\"categories\"] = create_category_annotation(category_ids)\n",
        "    \n",
        " \n",
        "# Create image and annotation sections using the images_annotations_info function\n",
        "#You have already defined the images_annotations_info function\n",
        "\n",
        "coco_format[\"images\"], coco_format[\"annotations\"], annotation_cnt = images_annotations_info(PATH2MASK, data_train, train_idx, background_color_tupple)\n",
        "\n",
        "#Open the annotation file in write mode nad dump the required information there\n",
        "with open(ANNOTATION_PATH,\"w\") as ANNOTATION_PATH:\n",
        "  json.dump(coco_format, ANNOTATION_PATH)\n",
        "\n",
        "  #Validate whether all annotation files have been created for the training dataset         \n",
        "print(\"Created %d annotations for training images\" % (annotation_cnt))"
      ],
      "execution_count": null,
      "outputs": [
        {
          "output_type": "stream",
          "text": [
            "Created 12231 annotations for training images\n"
          ],
          "name": "stdout"
        }
      ]
    },
    {
      "cell_type": "markdown",
      "metadata": {
        "id": "p6yqyFz6dY6I"
      },
      "source": [
        "the above takes approximately 5 min to complete"
      ]
    },
    {
      "cell_type": "markdown",
      "metadata": {
        "id": "p0nZBw_9boez"
      },
      "source": [
        "### compute the validation set annotations"
      ]
    },
    {
      "cell_type": "code",
      "metadata": {
        "id": "g6bFBxSibntw"
      },
      "source": [
        "# Get the standard COCO JSON format - template\n",
        "coco_format = get_coco_json_format()"
      ],
      "execution_count": null,
      "outputs": []
    },
    {
      "cell_type": "code",
      "metadata": {
        "id": "dChQohGdbuq4"
      },
      "source": [
        "# create the output file\n",
        "!touch /content/newdataset/val/annotations.json"
      ],
      "execution_count": null,
      "outputs": []
    },
    {
      "cell_type": "code",
      "metadata": {
        "colab": {
          "base_uri": "https://localhost:8080/"
        },
        "id": "YCbL4lI8bx-j",
        "outputId": "1a6360e4-4c0c-4751-b3cc-084078530ca1"
      },
      "source": [
        "# path to the annotation file\n",
        "ANNOTATION_PATH = \"/content/newdataset/val/annotations.json\"\n",
        "        \n",
        "# Create a category section\n",
        "coco_format[\"categories\"] = create_category_annotation(category_ids)\n",
        "    \n",
        "# Create images and annotations sections\n",
        "coco_format[\"images\"], coco_format[\"annotations\"], annotation_cnt = images_annotations_info(PATH2MASK, data_val, val_idx, background_color_tupple)\n",
        "\n",
        "#Open the annotation file in write mode nad dump the required information there\n",
        "\n",
        "with open(ANNOTATION_PATH,\"w\") as ANNOTATION_PATH:\n",
        "  json.dump(coco_format, ANNOTATION_PATH)\n",
        "      \n",
        "  #Validate whether all annotation files have been created for the validation dataset    \n",
        "\n",
        "print(\"Created %d annotations for validation images\" % (annotation_cnt))"
      ],
      "execution_count": null,
      "outputs": [
        {
          "output_type": "stream",
          "text": [
            "Created 1360 annotations for validation images\n"
          ],
          "name": "stdout"
        }
      ]
    },
    {
      "cell_type": "code",
      "metadata": {
        "id": "IYSP7rs8laKz",
        "colab": {
          "base_uri": "https://localhost:8080/"
        },
        "outputId": "0d5e9a04-01de-4b2d-be5a-237132a71320"
      },
      "source": [
        "# search and report the different file-types in the train image directory\n",
        "!find /content/newdataset/train/ -type f | awk -F. '!a[$NF]++{print $NF}'"
      ],
      "execution_count": null,
      "outputs": [
        {
          "output_type": "stream",
          "text": [
            "png\n",
            "json\n"
          ],
          "name": "stdout"
        }
      ]
    },
    {
      "cell_type": "code",
      "metadata": {
        "colab": {
          "base_uri": "https://localhost:8080/"
        },
        "id": "pZx3n97fapK3",
        "outputId": "dde90438-974f-4266-e392-ca563dfd5d3d"
      },
      "source": [
        "import os.path\n",
        "\n",
        "# simple version for working with CWD\n",
        "name = '/content/newdataset/train/'\n",
        "path, dirs, files = next(os.walk(name))\n",
        "file_count1 = len(files)\n",
        "\n",
        "name = '/content/newdataset/val/'\n",
        "path, dirs, files = next(os.walk(name))\n",
        "file_count2 = len(files)\n",
        "print(file_count1 + file_count2)\n",
        "\n",
        "#expecting 13,593 (13,591 images + 2 json files)"
      ],
      "execution_count": null,
      "outputs": [
        {
          "output_type": "stream",
          "text": [
            "13593\n"
          ],
          "name": "stdout"
        }
      ]
    },
    {
      "cell_type": "markdown",
      "metadata": {
        "id": "gkchZqTJdiUQ"
      },
      "source": [
        "the above process takes approximately 50 sec to complete\n"
      ]
    },
    {
      "cell_type": "markdown",
      "metadata": {
        "id": "ifjP_Kouxa0R"
      },
      "source": [
        "------\n",
        "## Get the code <a name=\"get-the-code\"></a>\n",
        "\n",
        "Lets get a copy of the Matterport Mask R-CNN project modified for TF2 support \n",
        "by Ahmed Gad and further extended by Georgios Ouzounis. It can be found [here](https://github.com/georgiosouzounis/Mask-RCNN-hacked)."
      ]
    },
    {
      "cell_type": "code",
      "metadata": {
        "id": "lNLcjFe4uzfd"
      },
      "source": [
        "#clone the required Matterplot Mask R-CNN project\n",
        "%cd /content/\n",
        "!git clone https://github.com/georgiosouzounis/Mask-RCNN-hacked.git"
      ],
      "execution_count": null,
      "outputs": []
    },
    {
      "cell_type": "code",
      "metadata": {
        "id": "wkCJrjcHR0pa"
      },
      "source": [
        "# Path to the trained weights file\n",
        "MODEL_DIR = os.path.join(ROOT_DIR, \"Mask-RCNN-hacked\")"
      ],
      "execution_count": null,
      "outputs": []
    },
    {
      "cell_type": "markdown",
      "metadata": {
        "id": "lSJgOxZJCIBF"
      },
      "source": [
        "------\n",
        "## Get the COCO weights <a name=\"get-the-coco-weights\"></a>\n",
        "\n",
        "\n",
        "needed for transfer learning"
      ]
    },
    {
      "cell_type": "code",
      "metadata": {
        "id": "U9AjpLxRCIP4"
      },
      "source": [
        "#get the coco weights in the respective directory\n",
        "!wget https://github.com/matterport/Mask_RCNN/releases/download/v2.0/mask_rcnn_coco.h5 -O /content/Mask-RCNN-hacked/mask_rcnn_coco.h5"
      ],
      "execution_count": null,
      "outputs": []
    },
    {
      "cell_type": "code",
      "metadata": {
        "id": "p1pApBaCRwxZ"
      },
      "source": [
        "#set the path to the trained weights file\n",
        "COCO_WEIGHTS_PATH = os.path.join(MODEL_DIR, \"mask_rcnn_coco.h5\")"
      ],
      "execution_count": null,
      "outputs": []
    },
    {
      "cell_type": "markdown",
      "metadata": {
        "id": "G9rXei7z3MWg"
      },
      "source": [
        "## Model Training  <a name=\"model-training\"></a>\n",
        "\n",
        "\n",
        "In this section we will configure our data IO (images & masks) driven by the annotation files we created before, create and customize our model, and start training!"
      ]
    },
    {
      "cell_type": "code",
      "metadata": {
        "id": "y3Pdm49ZKJZk",
        "colab": {
          "base_uri": "https://localhost:8080/"
        },
        "outputId": "5feb7211-9c96-4d28-e3fc-f4a51f1525da"
      },
      "source": [
        "#import relavant libraries\n",
        "from imgaug import augmenters as iaa\n",
        "from tqdm import tqdm\n",
        "from sklearn.model_selection import KFold\n",
        "import matplotlib.pyplot as plt\n",
        "\n",
        "# Import Mask R-CNN\n",
        "sys.path.append(os.path.join(ROOT_DIR, 'Mask-RCNN-hacked'))  # To find local version of the library\n",
        "from mrcnn.config import Config\n",
        "from mrcnn import utils\n",
        "import mrcnn.model as modellib\n",
        "from mrcnn import visualize\n",
        "from mrcnn.model import log"
      ],
      "execution_count": null,
      "outputs": [
        {
          "output_type": "stream",
          "text": [
            "Using TensorFlow backend.\n"
          ],
          "name": "stderr"
        }
      ]
    },
    {
      "cell_type": "code",
      "metadata": {
        "id": "gsdOIz44gvfQ"
      },
      "source": [
        "#import coco tools\n",
        "from pycocotools.coco import COCO\n",
        "from pycocotools import mask as maskUtils"
      ],
      "execution_count": null,
      "outputs": []
    },
    {
      "cell_type": "code",
      "metadata": {
        "id": "ZJnra0H3MMJo"
      },
      "source": [
        "############################################################\n",
        "#  Dataset\n",
        "############################################################\n",
        "#Here, we are trying to define a parser for the vector data we generated previously in this demo\n",
        "\n",
        "class OiltankDataset(utils.Dataset):\n",
        "\n",
        "  \"\"\"Load a subset of the custom dataset \n",
        "     + dataset_dir: Root directory of the dataset.\n",
        "     + subset: Subset to load: train or val\n",
        "  \"\"\"\n",
        "  def load_data(self, dataset_dir, subset):\n",
        "    # Train or validation dataset?\n",
        "    assert subset in [\"train\", \"val\"]\n",
        "    # include the subset in the dataset path\n",
        "    dataset_dir = os.path.join(dataset_dir, subset)\n",
        "    # open the relevant annotations file (json) \n",
        "    coco = COCO(\"{}/annotations.json\".format(dataset_dir))\n",
        "    # retrieve the image ids\n",
        "    image_ids = list(coco.imgs.keys())\n",
        "    # add classes; we have only one class to add\n",
        "    self.add_class(\"oiltank\", 1, \"oiltank\")\n",
        "    class_ids = [1]\n",
        "    # add images\n",
        "    for i in image_ids:\n",
        "      self.add_image(\n",
        "        \"oiltank\", # the image source\n",
        "        image_id=i, # the image ID\n",
        "        path=os.path.join(dataset_dir, coco.imgs[i]['file_name']), # the image path\n",
        "        width=CHIP_SIDE, #  image width\n",
        "        height=CHIP_SIDE, # image height\n",
        "        annotations=coco.loadAnns(coco.getAnnIds(imgIds=[i], catIds=class_ids, iscrowd=None)))\n",
        "      \n",
        "     \n",
        "#Load instance masks for the given image.\n",
        "#Different datasets store masks in different ways. This function converts the different mask formats to one format,in the form of a bitmap [height, width, instances].\n",
        "#Returns:+ masks: A bool array of shape [height, width, instance count] with one mask per instance.+ class_ids: a 1D array of the class IDs of the instance masks.\n",
        "\n",
        "def load_mask(self, image_id):\n",
        "       \n",
        "        # If it is not a relevant image, delegate to the parent class.\n",
        "        # gives this error: \"You are using the default load_mask(); maybe you need to define your own one.\"\"\n",
        "        image_info = self.image_info[image_id]\n",
        "        if image_info[\"source\"] != \"oiltank\":\n",
        "            print(\"WARNING: not a relevant image\")\n",
        "            return super(OiltankDataset, self).load_mask(image_id)\n",
        " \n",
        "        instance_masks = []\n",
        "        class_ids = []\n",
        "        # annotations holds the polygons around each instance  in this image\n",
        "        annotations = self.image_info[image_id][\"annotations\"]\n",
        " \n",
        "        # Build mask of shape [height, width, instance_count] and a list\n",
        "        # of the class IDs that correspond to each channel of the mask.\n",
        "        for annotation in annotations:\n",
        "            # get the class label\n",
        "            class_id = annotation[\"category_id\"] #self.map_source_class_id(\"coco.{}\".format(annotation['category_id']))\n",
        " \n",
        "            if class_id:\n",
        "                m = self.annToMask(annotation, CHIP_SIDE,CHIP_SIDE)\n",
        "                # Some objects are so small they are less than 1 pixel in area\n",
        "                # and end up rounded out. Skip these objects.\n",
        "                if m.max() < 1:\n",
        "                    continue\n",
        "                # Is it a crowd? If so, use a negative class ID.\n",
        "                if annotation['iscrowd']:\n",
        "                    # Use a negative class ID for crowds\n",
        "                    class_id *= -1\n",
        "                    # For crowd masks, annToMask() sometimes returns a mask\n",
        "                    # smaller than the given dimensions. If so, resize it.\n",
        "                    if m.shape[0] != CHIP_SIDE or m.shape[1] != CHIP_SIDE:\n",
        "                        m = np.ones([CHIP_SIDE, CHIP_SIDE], dtype=bool)\n",
        "                instance_masks.append(m)\n",
        "                class_ids.append(class_id)\n",
        " \n",
        "        # Pack the instance masks into an array\n",
        "        if class_ids:\n",
        "            mask = np.stack(instance_masks, axis=2).astype(np.bool)\n",
        "            class_ids = np.array(class_ids, dtype=np.int32)\n",
        "            return mask, class_ids\n",
        "        else:\n",
        "            # Call the super class to return an empty mask\n",
        "            print(\"WARNING: image does not contain buildings...\")\n",
        "            return super(OiltankDataset, self).load_mask(image_id)\n",
        " \n",
        "\n",
        "# image_reference simply returns a string that identifies the image\n",
        "  # for debugging purposes. Here, it simply returns the path of the image file.\n",
        "def image_reference(self, image_id):\n",
        "        \"\"\"Return the path of the image.\"\"\"\n",
        "        info = self.image_info[image_id]\n",
        "        if info[\"source\"] == \"oiltank\":\n",
        "            return info[\"path\"]\n",
        "        else:\n",
        "            super(self.__class__, self).image_reference(image_id)\n",
        " \n",
        "  # The following two functions are from pycocotools, with a few changes:\n",
        "  # RLE is a simple yet efficient format for storing binary masks.\n",
        "  # RLE first divides a vector (or a vectorized image) into a series\n",
        "  # of piecewise constant regions and then simply\n",
        "  # stores the length of each piece.\n",
        "def annToRLE(self, ann, height, width):\n",
        "        \"\"\"\n",
        "        Convert annotation which can be polygons, uncompressed RLE to RLE.\n",
        "        :return: binary mask (a numpy 2D array)\n",
        "        \"\"\"\n",
        "        segm = ann['segmentation']\n",
        "        if isinstance(segm, list):\n",
        "            # polygon -- a single object might consist of multiple parts\n",
        "            # we merge all the parts into one mask rle code\n",
        "            rles = maskUtils.frPyObjects(segm, height, width)\n",
        "            rle = maskUtils.merge(rles)\n",
        "        elif isinstance(segm['counts'], list):\n",
        "            # uncompressed RLE\n",
        "            rle = maskUtils.frPyObjects(segm, height, width)\n",
        "        else:\n",
        "            # rle\n",
        "            rle = ann['segmentation']\n",
        "        return rle\n",
        " \n",
        "def annToMask(self, ann, height, width):\n",
        "        \"\"\"\n",
        "        Convert annotation which can be polygons, uncompressed RLE, or RLE to binary mask.\n",
        "        :return: binary mask (numpy 2D array)\n",
        "        \"\"\"\n",
        "        rle = self.annToRLE(ann, height, width)\n",
        "        m = maskUtils.decode(rle)\n",
        "        return m"
      ],
      "execution_count": null,
      "outputs": []
    },
    {
      "cell_type": "code",
      "metadata": {
        "id": "vs1T5_f4ifZf"
      },
      "source": [
        "PATH2NEWDATA = '/content/newdataset/'"
      ],
      "execution_count": null,
      "outputs": []
    },
    {
      "cell_type": "markdown",
      "metadata": {
        "id": "GSjN_clap6rl"
      },
      "source": [
        "### Create our MRCNN compatible datasets"
      ]
    },
    {
      "cell_type": "code",
      "metadata": {
        "id": "zZ5WUOXxf8lA",
        "colab": {
          "base_uri": "https://localhost:8080/"
        },
        "outputId": "e872cdfb-c217-44f9-e2bb-f6544ec5977d"
      },
      "source": [
        "# prepare the training dataset\n",
        "dataset_train = OiltankDataset()\n",
        "dataset_train.load_data(PATH2NEWDATA, \"train\")\n",
        "dataset_train.prepare()"
      ],
      "execution_count": null,
      "outputs": [
        {
          "output_type": "stream",
          "text": [
            "loading annotations into memory...\n",
            "Done (t=0.28s)\n",
            "creating index...\n",
            "index created!\n"
          ],
          "name": "stdout"
        }
      ]
    },
    {
      "cell_type": "code",
      "metadata": {
        "id": "P2WkeqREf_L0",
        "colab": {
          "base_uri": "https://localhost:8080/"
        },
        "outputId": "c1c10632-88cb-448b-ffb6-613525d0086f"
      },
      "source": [
        "# prepare the validation dataset\n",
        "dataset_val = OiltankDataset()\n",
        "dataset_val.load_data(PATH2NEWDATA, \"val\")\n",
        "dataset_val.prepare()"
      ],
      "execution_count": null,
      "outputs": [
        {
          "output_type": "stream",
          "text": [
            "loading annotations into memory...\n",
            "Done (t=0.02s)\n",
            "creating index...\n",
            "index created!\n"
          ],
          "name": "stdout"
        }
      ]
    },
    {
      "cell_type": "code",
      "metadata": {
        "id": "aVqDjiUEgBgD"
      },
      "source": [
        "# Load and display a random sample and show the bounding boxes\n",
        "\n",
        "class_ids = [0]\n",
        "while class_ids[0] == 0:  ## look for a mask\n",
        "    image_id = random.choice(dataset_train.image_ids)\n",
        "    image_fp = dataset_train.image_reference(image_id)\n",
        "    image = dataset_train.load_image(image_id)\n",
        "    mask, class_ids = dataset_train.load_mask(image_id)\n",
        "\n",
        "print(image.shape)\n",
        "\n",
        "plt.figure(figsize=(10, 10))\n",
        "plt.subplot(1, 2, 1)\n",
        "plt.imshow(image)\n",
        "plt.axis('off')\n",
        "\n",
        "plt.subplot(1, 2, 2)\n",
        "masked = np.zeros(image.shape[:2])\n",
        "for i in range(mask.shape[2]):\n",
        "    masked += image[:, :, 0] * mask[:, :, i]\n",
        "plt.imshow(masked, cmap='gray')\n",
        "plt.axis('off')\n",
        "\n",
        "print(image_fp)\n",
        "print(class_ids)"
      ],
      "execution_count": null,
      "outputs": []
    },
    {
      "cell_type": "markdown",
      "metadata": {
        "id": "midpBQL8qFQn"
      },
      "source": [
        "### Customize some image augmentation to reduce the risk of overfitting "
      ]
    },
    {
      "cell_type": "code",
      "metadata": {
        "id": "3xjnPqVpgG8Q"
      },
      "source": [
        " \n",
        "#Image augmentation will give views of each individual image in the training dataset that are not provided here\n",
        "#Ex: You can rotate, zoom into, and zoom out of an image so that we can enrich the views of the oil tanks\n",
        " \n",
        "# Image augmentation (light but constant)\n",
        "augmentation = iaa.Sequential([\n",
        "    iaa.OneOf([ ## geometric transform\n",
        "        iaa.Affine(\n",
        "            scale={\"x\": (0.98, 1.02), \"y\": (0.98, 1.04)},\n",
        "            translate_percent={\"x\": (-0.02, 0.02), \"y\": (-0.04, 0.04)},\n",
        "            rotate=(-2, 2),\n",
        "            #shear=(-1, 1),\n",
        "        ),\n",
        "        iaa.PiecewiseAffine(scale=(0.001, 0.025)),\n",
        "    ]),\n",
        "    iaa.OneOf([ ## brightness or contrast\n",
        "        iaa.Multiply((0.9, 1.1)),\n",
        "        iaa.ContrastNormalization((0.9, 1.1)),\n",
        "    ]),#,\n",
        "    #iaa.OneOf([ ## blur or sharpen\n",
        "    #    iaa.GaussianBlur(sigma=(0.0, 0.1)),\n",
        "    #    iaa.Sharpen(alpha=(0.0, 0.1)),\n",
        "    #]),\n",
        "])\n",
        " \n",
        "# test on the same image as above\n",
        "imggrid = augmentation.draw_grid(image[:, :, 0], cols=5, rows=2)\n",
        "plt.figure(figsize=(30, 12))\n",
        "_ = plt.imshow(imggrid[:, :, 0], cmap='gray')"
      ],
      "execution_count": null,
      "outputs": []
    },
    {
      "cell_type": "code",
      "metadata": {
        "id": "SpldrQg1L3bH"
      },
      "source": [
        "class OiltankConfig(Config):\n",
        "    \"\"\"Configuration for training the oil-tank segmentation model\n",
        "    Overrides values in the base Config class\n",
        "    \"\"\"\n",
        "   \n",
        "    # Give the configuration a recognizable name  \n",
        "    NAME = 'oiltank'\n",
        "   \n",
        "    # Train on 1 GPU and with 8 images per GPU. We can put multiple images on each\n",
        "    # GPU because the images are small. The batch size is 12 (GPUs * images/GPU).\n",
        "    GPU_COUNT = 1\n",
        "    IMAGES_PER_GPU = 12\n",
        "   \n",
        "    BACKBONE = 'resnet50'\n",
        "   \n",
        "    NUM_CLASSES = 2  # background + 1 oil-tank classes\n",
        "   \n",
        "    # if no resizing is selected:\n",
        "    #the minimum and maximum dimension of the image should be set to chip side\n",
        "    IMAGE_MIN_DIM = CHIP_SIDE\n",
        "    IMAGE_MAX_DIM = CHIP_SIDE\n",
        "    IMAGE_RESIZE_MODE = 'none'\n",
        "    # alternatively:\n",
        "    #IMAGE_MIN_DIM = 64\n",
        "    #IMAGE_MAX_DIM = 128\n",
        " \n",
        "#define a vector for region proposal anchor scale\n",
        "    RPN_ANCHOR_SCALES = (8, 16, 32, 64, 128) # anchor side in pixels\n",
        " \n",
        "    # STEPS_PER_EPOCH should be the number of instances\n",
        "    # divided by (GPU_COUNT*IMAGES_PER_GPU), i.e., 12230/8 = 1020\n",
        "    # and so should VALIDATION_STEPS;  i.e.,  1360/8 = 110\n",
        "    # we chose a lower number of steps to make our training possible\n",
        "    # in about 4 hours. However, and as a consequence of our choice, we will\n",
        "    # see an abrupt rise in train and validation loss due to the\n",
        "    # infrequent update of the weights.\n",
        "    STEPS_PER_EPOCH = 200 #it should be set to 1020, but this would take over 1 hour per epoch\n",
        "    VALIDATION_STEPS = 100 #it should be set to 110\n",
        " \n",
        "    # Reduce training ROIs per image because the images are small\n",
        "    # and contain only a few objects at best\n",
        "    TRAIN_ROIS_PER_IMAGE = 24\n",
        "    MAX_GT_INSTANCES = 12\n",
        "   \n",
        "    DETECTION_MAX_INSTANCES = 12\n",
        "    DETECTION_MIN_CONFIDENCE = 0.9 # insist on clear detections\n",
        "    DETECTION_NMS_THRESHOLD = 0.5 # background can be misclassified,\n",
        "    # make sure NMS prevents tanks and nearby rings of soil coming together\n",
        " \n",
        "    ## balance out losses\n",
        "    # - rpn_class_loss: How well the Region Proposal Network separates background with objects\n",
        "    # - rpn_bbox_loss : How well the RPN localizes objects\n",
        "    # - mrcnn_bbox_loss : How well the Mask RCNN localizes objects\n",
        "    # - mrcnn_class_loss : How well the Mask RCNN recognizes each class of object\n",
        "    # - mrcnn_mask_loss : How well the Mask RCNN segments objects\n",
        "    LOSS_WEIGHTS = {\n",
        "        \"rpn_class_loss\": 12.0,\n",
        "        \"rpn_bbox_loss\": 1.8,\n",
        "        \"mrcnn_class_loss\": 6.0,\n",
        "        \"mrcnn_bbox_loss\": 1.0,\n",
        "        \"mrcnn_mask_loss\": 1.6\n",
        "    }\n",
        " \n",
        "#instantiate the configuration class and display the configurations\n",
        "config = OiltankConfig()\n",
        "config.display()"
      ],
      "execution_count": null,
      "outputs": []
    },
    {
      "cell_type": "markdown",
      "metadata": {
        "id": "5QnPhO3bgJVz"
      },
      "source": [
        "Time to train the model! Note that training even a basic model can take a few hours.\n",
        " \n",
        "**Note:** The following model is for demonstration purposes only. We have limited the training to only a few epochs and have set nominal values for the Oiltank Configuration to reduce runtime.\n",
        "\n"
      ]
    },
    {
      "cell_type": "code",
      "metadata": {
        "id": "mbmB5Im2gMqk"
      },
      "source": [
        "# create the model\n",
        "model = modellib.MaskRCNN(mode='training', config=config, model_dir=MODEL_DIR)\n",
        "\n",
        "# Load the weights. You downloaded the coco weights as part of this experiment earlier. Exclude the last layers because they require a matching\n",
        "# number of classes\n",
        "model.load_weights(COCO_WEIGHTS_PATH, by_name=True, exclude=[\n",
        "    \"mrcnn_class_logits\", \"mrcnn_bbox_fc\",\n",
        "    \"mrcnn_bbox\", \"mrcnn_mask\"])"
      ],
      "execution_count": null,
      "outputs": []
    },
    {
      "cell_type": "code",
      "metadata": {
        "id": "IHbREJWlgQs4"
      },
      "source": [
        "# set the learning rate\n",
        "LEARNING_RATE = 0.0001\n",
        "\n",
        "# suppress warnings\n",
        "import warnings \n",
        "warnings.filterwarnings(\"ignore\")"
      ],
      "execution_count": null,
      "outputs": []
    },
    {
      "cell_type": "code",
      "metadata": {
        "id": "tDa-NNR-FrWp"
      },
      "source": [
        "# review the network architecture\n",
        "# The image file is too large. Download it locally and review it\n",
        "\n",
        "model.plot()"
      ],
      "execution_count": null,
      "outputs": []
    },
    {
      "cell_type": "code",
      "metadata": {
        "id": "KBLIV6OtOU_P"
      },
      "source": [
        "# review the network architecture\n",
        "model.summary()"
      ],
      "execution_count": null,
      "outputs": []
    },
    {
      "cell_type": "markdown",
      "metadata": {
        "id": "crINBJUT2l_J"
      },
      "source": [
        "**INFO:** In the following, we will compute a series of training sessions.\n",
        " \n",
        "- In session 1, we will focus on the heads of the model because we are excluding the end layer COCO weights for transfer learning. Loss is expected to be a bit bumpy. We will use twice the LR to accelerate computation.\n",
        "- In section 2, we will train the full network to fine-tune it to our data. We will use the original LR. If no overfitting occurs, we expect a smooth and progressive decline of both the training and validation loss.\n",
        "- In section 3, we will aim to bring the validation loss to about 0.2. We will continue training the model but with a small LR to allow the network to register small changes in weights.\n",
        "- Follow-up sessions can be added if the objective is not met.\n",
        " \n",
        "**WARNING:** In the following, if, after executing it, you get this error message:"
      ]
    },
    {
      "cell_type": "markdown",
      "metadata": {
        "id": "4xJdXTbRfm3J"
      },
      "source": [
        "```\n",
        "ResourceExhaustedError:  OOM when allocating tensor with shape[3200,256,28,28] and type float on /job:localhost/replica:0/task:0/device:GPU:0 by allocator GPU_0_bfc\t [[node mrcnn_mask_deconv_1/conv2d_transpose (defined at /usr/local/lib/python3.7/dist-packages/keras/backend/tensorflow_backend.py:3009) ]]Hint: If you want to see a list of allocated tensors when OOM happens, add report_tensor_allocations_upon_oom to RunOptions for current allocation info. [Op:__inference_keras_scratch_graph_119840]Function call stack:keras_scratch_graph\n",
        "```\n",
        "Return to your configuration class and set the IMAGES_PER_GPU to a smaller number"
      ]
    },
    {
      "cell_type": "code",
      "metadata": {
        "id": "r3hRND44gNMK"
      },
      "source": [
        "# # first, we train only the heads with twice the learning rate for faster execution\n",
        "%%time\n",
        "model.train(dataset_train, dataset_val,\n",
        "            learning_rate=LEARNING_RATE*2,\n",
        "            epochs=6,\n",
        "            layers='heads',\n",
        "            augmentation=augmentation)\n",
        "\n",
        "# store a summary of trained model\n",
        "history = model.keras_model.history.history"
      ],
      "execution_count": null,
      "outputs": []
    },
    {
      "cell_type": "code",
      "metadata": {
        "id": "oDkDlZBaTHUn"
      },
      "source": [
        "# Next, we train all layers to fine-tune the model to our data, for another 6 epochs.\n",
        "%%time\n",
        "model.train(dataset_train, dataset_val,\n",
        "            learning_rate=LEARNING_RATE,\n",
        "            epochs=12,\n",
        "            layers='all',\n",
        "            augmentation=augmentation)\n",
        "\n",
        "new_history = model.keras_model.history.history\n",
        "for k in new_history: history[k] = history[k] + new_history[k]"
      ],
      "execution_count": null,
      "outputs": []
    },
    {
      "cell_type": "code",
      "metadata": {
        "id": "7Ek9NhrhTe-b"
      },
      "source": [
        "# # lastly, we train all layers at a reduced LR for another 12 epochs\n",
        "%%time\n",
        "model.train(dataset_train, dataset_val,\n",
        "            learning_rate=LEARNING_RATE/5,\n",
        "            epochs=24,\n",
        "            layers='all',\n",
        "            augmentation=augmentation)\n",
        "\n",
        "new_history = model.keras_model.history.history\n",
        "for k in new_history: history[k] = history[k] + new_history[k]"
      ],
      "execution_count": null,
      "outputs": []
    },
    {
      "cell_type": "markdown",
      "metadata": {
        "id": "nHqo7Ubg2-v7"
      },
      "source": [
        "Model training requires approximately 55 min + 60 min + 125 min = 4hours approximately to complete "
      ]
    },
    {
      "cell_type": "markdown",
      "metadata": {
        "id": "zuAy55LLT9H6"
      },
      "source": [
        "### A brief look into the history"
      ]
    },
    {
      "cell_type": "code",
      "metadata": {
        "id": "Bfdh6j68ga4Q"
      },
      "source": [
        "# get the model training stats\n",
        "epochs = range(1,len(next(iter(history.values())))+1)\n",
        "pd.DataFrame(history, index=epochs)"
      ],
      "execution_count": null,
      "outputs": []
    },
    {
      "cell_type": "code",
      "metadata": {
        "id": "BFaKYpj5geJz"
      },
      "source": [
        "# plot the training vs validation loss, and other metrics \n",
        "plt.figure(figsize=(17,5))\n",
        "\n",
        "plt.subplot(131)\n",
        "plt.plot(epochs, history[\"loss\"], label=\"Train loss\")\n",
        "plt.plot(epochs, history[\"val_loss\"], label=\"Valid loss\")\n",
        "plt.legend()\n",
        "plt.show()"
      ],
      "execution_count": null,
      "outputs": []
    },
    {
      "cell_type": "markdown",
      "metadata": {
        "id": "VIF2sNhVUCDN"
      },
      "source": [
        "From the plot above, one can see a smooth reduction of training loss, which is a good indication of the model's complexity. There are no evident signs of overfitting. Fluctuations in the validation loss can be due to many reasons. Overall, if one was to fit a polynomial between the edge points of the orange line, the result would be a curve following the trends of the blue line.\n",
        " \n",
        "Note that increasing the number of epochs by running an additional training session may not help much because the model seems to be saturated, i.e., it cannot be improved further. In this case, we must re-adjust the hyperparameters and repeat the training sessions."
      ]
    },
    {
      "cell_type": "markdown",
      "metadata": {
        "id": "E85aoZpOr9lt"
      },
      "source": [
        "### Select the best weights\n"
      ]
    },
    {
      "cell_type": "code",
      "metadata": {
        "id": "4JqJqoa5ggUJ",
        "colab": {
          "base_uri": "https://localhost:8080/"
        },
        "outputId": "5026d80e-2e7a-4f76-f970-56dc370fe5cd"
      },
      "source": [
        "# select the best weights based on the lowest validation loss\n",
        "#function np.argmin helps you find the best epoch\n",
        "\n",
        "best_epoch = np.argmin(history[\"val_loss\"])\n",
        "print(\"Best Epoch:\", best_epoch + 1, history[\"val_loss\"][best_epoch])"
      ],
      "execution_count": null,
      "outputs": [
        {
          "output_type": "stream",
          "text": [
            "Best Epoch: 21 0.30374497175216675\n"
          ],
          "name": "stdout"
        }
      ]
    },
    {
      "cell_type": "code",
      "metadata": {
        "id": "MpabBrxQgjCT",
        "colab": {
          "base_uri": "https://localhost:8080/"
        },
        "outputId": "4f51893c-d904-47c5-db84-509fade03a5b"
      },
      "source": [
        "# select best model \n",
        "LOG_DIR = \"/content/Mask-RCNN-hacked/log/\"\n",
        "dir_names = next(os.walk(LOG_DIR))[1]\n",
        "key = config.NAME.lower()\n",
        "dir_names = filter(lambda f: f.startswith(key), dir_names)\n",
        "dir_names = sorted(dir_names)\n",
        "\n",
        "if not dir_names:\n",
        "    import errno\n",
        "    raise FileNotFoundError(\n",
        "        errno.ENOENT,\n",
        "        \"Could not find model directory under {}\".format(self.model_dir))\n",
        "    \n",
        "fps = []\n",
        "# Pick last directory\n",
        "for d in dir_names: \n",
        "    dir_name = os.path.join(LOG_DIR, d)\n",
        "    # Find the last checkpoint\n",
        "    checkpoints = next(os.walk(dir_name))[2]\n",
        "    checkpoints = filter(lambda f: f.startswith(\"mask_rcnn\"), checkpoints)\n",
        "    checkpoints = sorted(checkpoints)\n",
        "    if not checkpoints:\n",
        "        print('No weight files in {}'.format(dir_name))\n",
        "    else:\n",
        "        checkpoint = os.path.join(dir_name, checkpoints[best_epoch])\n",
        "        fps.append(checkpoint)\n",
        "\n",
        "model_path = sorted(fps)[-1]\n",
        "print('Found model {}'.format(model_path))"
      ],
      "execution_count": null,
      "outputs": [
        {
          "output_type": "stream",
          "text": [
            "Found model /content/Mask-RCNN-hacked/log/oiltank20210712T0647/mask_rcnn_oiltank_0021.h5\n"
          ],
          "name": "stdout"
        }
      ]
    },
    {
      "cell_type": "markdown",
      "metadata": {
        "id": "uPpUXcKLglJD"
      },
      "source": [
        "## Model Inference <a name=\"model-inference\"></a>\n"
      ]
    },
    {
      "cell_type": "markdown",
      "metadata": {
        "id": "P3Av6Ie613xl"
      },
      "source": [
        "### Get the best model/weights\n",
        "\n",
        "If stored externally, modify the path given below to bring up a copy of your best  weights file into this project. Otherwise, **skip** the next 2 code blocks."
      ]
    },
    {
      "cell_type": "code",
      "metadata": {
        "id": "U7hYg0JZ2JKP"
      },
      "source": [
        "#let's bring up a copy of best weights file into this google colab environment\n",
        "#Here the weight is stored in path 'MyDrive/deep-learning/mask-rcnn/logs/mask_rcnn_oiltank_0021.h5'\n",
        "\n",
        "%cp /content/drive/MyDrive/deep-learning/mask-rcnn/logs/mask_rcnn_oiltank_0021.h5 /content/"
      ],
      "execution_count": null,
      "outputs": []
    },
    {
      "cell_type": "code",
      "metadata": {
        "id": "tUWOUsfd2kUK"
      },
      "source": [
        "#store the path of weight file which you coped from your personal drive\n",
        "model_path = \"/content/mask_rcnn_oiltank_0021.h5\""
      ],
      "execution_count": null,
      "outputs": []
    },
    {
      "cell_type": "markdown",
      "metadata": {
        "id": "y5N2Y9_gf7Io"
      },
      "source": [
        "### Create the inference model configured with the best weights"
      ]
    },
    {
      "cell_type": "code",
      "metadata": {
        "id": "jbmQbMPOgm37",
        "colab": {
          "base_uri": "https://localhost:8080/"
        },
        "outputId": "fefe9a1f-c172-443e-cc55-0a0536e63586"
      },
      "source": [
        "#instantiate the config, which will be used as a parameter for instantiating the model\n",
        "inference_config = InferenceConfig()\n",
        " \n",
        "# Instantiate the model again in the inference mode\n",
        "#earlier, we were instantiating the model in the training mode\n",
        "model = modellib.MaskRCNN(mode='inference',\n",
        "                          config=inference_config,\n",
        "                          model_dir=ROOT_DIR)\n",
        " \n",
        "# Load the trained weights (fill in the path to trained weights here as per your use case)\n",
        "assert model_path != \"\", \"Provide path to trained weights\"\n",
        "print(\"Loading weights from \", model_path)\n",
        "model.load_weights(model_path, by_name=True) \n"
      ],
      "execution_count": null,
      "outputs": [
        {
          "output_type": "stream",
          "text": [
            "Loading weights from  /content/mask_rcnn_oiltank_0021.h5\n"
          ],
          "name": "stdout"
        }
      ]
    },
    {
      "cell_type": "markdown",
      "metadata": {
        "id": "F5GUfBUQf-wI"
      },
      "source": [
        "### Demo a random set of GT vs predictions from images in the Validation Set"
      ]
    },
    {
      "cell_type": "code",
      "metadata": {
        "id": "aqV9b78OgpZp"
      },
      "source": [
        "# set the color for the airplanes class\n",
        "def get_colors_for_class_ids(class_ids):\n",
        "    colors = []\n",
        "    for class_id in class_ids:\n",
        "        if class_id == 1:\n",
        "            colors.append((.941, .204, .204))\n",
        "    return colors"
      ],
      "execution_count": null,
      "outputs": []
    },
    {
      "cell_type": "code",
      "metadata": {
        "id": "W5jLwNSpgqFH"
      },
      "source": [
        "# Show a few examples of ground truth vs predictions on the validation data set\n",
        "dataset = dataset_val\n",
        "fig = plt.figure(figsize=(10, 30))\n",
        "\n",
        "for i in range(6):\n",
        "\n",
        "    image_id = random.choice(dataset.image_ids)\n",
        "    \n",
        "    original_image, image_meta, gt_class_id, gt_bbox, gt_mask =\\\n",
        "        modellib.load_image_gt(dataset_val, inference_config, \n",
        "                               image_id, use_mini_mask=False)\n",
        "    \n",
        "    print(original_image.shape)\n",
        "    plt.subplot(6, 2, 2*i + 1)\n",
        "    visualize.display_instances(original_image, gt_bbox, gt_mask, gt_class_id, \n",
        "                                dataset.class_names,\n",
        "                                colors=get_colors_for_class_ids(gt_class_id), ax=fig.axes[-1])\n",
        "    \n",
        "    plt.subplot(6, 2, 2*i + 2)\n",
        "    results = model.detect([original_image]) #, verbose=1)\n",
        "    r = results[0]\n",
        "    visualize.display_instances(original_image, r['rois'], r['masks'], r['class_ids'], \n",
        "                                dataset.class_names, r['scores'], \n",
        "                                colors=get_colors_for_class_ids(r['class_ids']), ax=fig.axes[-1])"
      ],
      "execution_count": null,
      "outputs": []
    },
    {
      "cell_type": "markdown",
      "metadata": {
        "id": "CPddiusZgQkp"
      },
      "source": [
        "### Experiment with a small test set of previously unseen chips"
      ]
    },
    {
      "cell_type": "markdown",
      "metadata": {
        "id": "DALdJwPK4LUO"
      },
      "source": [
        "get the test_chip set"
      ]
    },
    {
      "cell_type": "code",
      "metadata": {
        "id": "Q3D2jJ9a1QHu"
      },
      "source": [
        "#download the test_chip datset \n",
        "\n",
        "!wget https://github.com/georgiosouzounis/instance-segmentation-mask-rcnn/raw/main/data/test_chips.zip -O /content/test_chips.zip"
      ],
      "execution_count": null,
      "outputs": []
    },
    {
      "cell_type": "code",
      "metadata": {
        "colab": {
          "base_uri": "https://localhost:8080/"
        },
        "id": "NxKhbiQH24ap",
        "outputId": "676eabc8-c14a-4ded-daeb-7c2f00dcfd04"
      },
      "source": [
        "%cd /content/"
      ],
      "execution_count": null,
      "outputs": [
        {
          "output_type": "stream",
          "text": [
            "/content\n"
          ],
          "name": "stdout"
        }
      ]
    },
    {
      "cell_type": "code",
      "metadata": {
        "id": "yN3vRkfF2dP2"
      },
      "source": [
        "# After unzipping the downloaded data set, remove the zipped file to save disk space in the Google Colab environment\n",
        "\n",
        "!unzip /content/test_chips.zip \n",
        "%rm /content/test_chips.zip "
      ],
      "execution_count": null,
      "outputs": []
    },
    {
      "cell_type": "code",
      "metadata": {
        "id": "O0-6tJPqXlzh"
      },
      "source": [
        "test_dir = \"/content/test_chips/\"\n",
        " \n",
        "# Get the test image file names in the directory and place them in a list called test_image_set\n",
        "test_image_set = glob.glob(test_dir+'/'+'*.png')\n",
        "#Cast the images names to a list\n",
        "test_image_set = list(set(test_image_set))"
      ],
      "execution_count": null,
      "outputs": []
    },
    {
      "cell_type": "code",
      "metadata": {
        "id": "z5luXSXQYC_5"
      },
      "source": [
        "#define the class names. In our case, there are two class names: background and oiltank\n",
        "\n",
        "CLASS_NAMES = [\"background\", \"oiltank\"]\n",
        "RES_DIR = \"/content/results/\"\n",
        "import mrcnn"
      ],
      "execution_count": null,
      "outputs": []
    },
    {
      "cell_type": "code",
      "metadata": {
        "id": "MP_yR6jGZUSL"
      },
      "source": [
        "def vis_and_save(image_id, _min_score):\n",
        " \n",
        "  #read the image\n",
        " \n",
        "  image = cv2.imread(image_id)\n",
        " \n",
        "  #convert image from BGR (default colour scheme for opencv) into RGB\n",
        "  image = cv2.cvtColor(image, cv2.COLOR_BGR2RGB)\n",
        "  #execute the model.detect function to get segmentation results into the variable called results\n",
        "  results = model.detect([image]) #, verbose=1)\n",
        "  r = results[0]\n",
        " \n",
        "  basename = os.path.basename(image_id).split(\".\")[0]\n",
        "  print(\"displaying chip: \" + basename)\n",
        " \n",
        "#let's use the individual features of the function to reconstruct our output mask using the display_instances function of matter plot mask RCNN library\n",
        "  mrcnn.visualize.display_instances(image=image,\n",
        "                                  boxes=r['rois'],\n",
        "                                  masks=r['masks'],\n",
        "                                  class_ids=r['class_ids'],\n",
        "                                  class_names=CLASS_NAMES,\n",
        "                                  scores=r['scores'],min_score=_min_score)\n",
        " \n",
        "  #next, we save the image files with the extension png in the 'images' directory\n",
        "  outfname =  RES_DIR + basename + \"_seg.png\"\n",
        "  cv2.imwrite(outfname, image)\n",
        " \n",
        "\n",
        "\n"
      ],
      "execution_count": null,
      "outputs": []
    },
    {
      "cell_type": "code",
      "metadata": {
        "id": "9QjiBhraX5s4"
      },
      "source": [
        "# set the min score threshold\n",
        "_min_score = 0.99\n",
        "\n",
        "# display the results for all chips\n",
        "for image_id in tqdm(test_image_set):\n",
        "  vis_and_save(image_id, _min_score)"
      ],
      "execution_count": null,
      "outputs": []
    },
    {
      "cell_type": "markdown",
      "metadata": {
        "id": "cURjPfuFdlBH"
      },
      "source": [
        "## Conclusions <a name=\"conclusions\"></a>\n"
      ]
    },
    {
      "cell_type": "markdown",
      "metadata": {
        "id": "LlzXFaGHdqbv"
      },
      "source": [
        " The results show that the model performs well, but in some cases, it has a hard time separating the oil-tank perimeter accurately from the tank. This is referred to as leakage and is primarily caused by the very little information on the background. Recall that all chips are focused on the tank with some minor background areas seen at the corners of the BBox and the rest of the chip content is black. This calls for a better annotation strategy.\n",
        " \n",
        "The successful detections appear to be proper; however, it is evident that some additional improvement in the model (loss reduction) would have been appreciated.\n",
        " \n",
        "Lastly, we see one False Negative on a type of tank that is not represented sufficiently in our data set. More such training instances would be of immense help.\n",
        "\n"
      ]
    },
    {
      "cell_type": "markdown",
      "metadata": {
        "id": "jHG8GzRfdrO0"
      },
      "source": [
        "### Examples of 'leakage'"
      ]
    },
    {
      "cell_type": "code",
      "metadata": {
        "colab": {
          "base_uri": "https://localhost:8080/",
          "height": 919
        },
        "id": "DUp7C3oYdolU",
        "outputId": "be079fca-6ef1-4efb-8cf8-993f7b708606"
      },
      "source": [
        "vis_and_save(\"/content/test_chips/test6.png\", 0.94)"
      ],
      "execution_count": null,
      "outputs": [
        {
          "output_type": "stream",
          "text": [
            "displaying chip: test6\n"
          ],
          "name": "stdout"
        },
        {
          "output_type": "display_data",
          "data": {
            "image/png": "[encoded data removed]",
            "text/plain": [
              "<Figure size 1152x1152 with 1 Axes>"
            ]
          },
          "metadata": {
            "tags": [],
            "needs_background": "light"
          }
        }
      ]
    },
    {
      "cell_type": "markdown",
      "metadata": {
        "id": "rh3P-ABTd0c7"
      },
      "source": [
        "### Examples of 'False Negatives' "
      ]
    },
    {
      "cell_type": "code",
      "metadata": {
        "id": "FpyLHTGPdxtt"
      },
      "source": [
        "vis_and_save(\"/content/test_chips/test9.png\", 0.0)"
      ],
      "execution_count": null,
      "outputs": []
    }
  ]
}