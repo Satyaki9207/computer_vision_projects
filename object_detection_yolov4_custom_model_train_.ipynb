{
  "nbformat": 4,
  "nbformat_minor": 0,
  "metadata": {
    "colab": {
      "provenance": []
    },
    "kernelspec": {
      "name": "python3",
      "display_name": "Python 3"
    },
    "language_info": {
      "name": "python"
    },
    "accelerator": "GPU"
  },
  "cells": [
    {
      "cell_type": "markdown",
      "metadata": {
        "id": "lF5rGAnOF1Gm"
      },
      "source": [
        "# Object detection using a YOLO V4 custom model training\n",
        "\n",
        "*by Georgios K. Ouzounis*\n",
        "\n",
        "In this exercise, we will experiment with object detection in still images using the YOLO V4 model customized for our data. The challenge will be to perform face mask detection after training a new model with images from a publicly available dataset in www.kaggle.com "
      ]
    },
    {
      "cell_type": "markdown",
      "metadata": {
        "id": "_eA28wr13BFa"
      },
      "source": [
        "Before starting, please go to *Runtime->Change runtime type* and chose GPU as your hardware accelerator. This code will work only under this assumption."
      ]
    },
    {
      "cell_type": "code",
      "metadata": {
        "id": "tXzDYD5Jqxdo"
      },
      "source": [
        "# import the relevant libraries\n",
        "import numpy as np\n",
        "import cv2 # openCV"
      ],
      "execution_count": null,
      "outputs": []
    },
    {
      "cell_type": "code",
      "metadata": {
        "id": "f_8aEMEncNUF"
      },
      "source": [
        "# check the opencv version\n",
        "print(cv2.__version__)"
      ],
      "execution_count": null,
      "outputs": []
    },
    {
      "cell_type": "code",
      "metadata": {
        "id": "BDKKratScSKs"
      },
      "source": [
        "# if the openCV version is < 4.4.0 update to the latest otherwise skip this step\n",
        "!pip install opencv-python==4.5.2.52"
      ],
      "execution_count": null,
      "outputs": []
    },
    {
      "cell_type": "markdown",
      "metadata": {
        "id": "0tX5Gk35tV1o"
      },
      "source": [
        "## Configure the DarkNet project"
      ]
    },
    {
      "cell_type": "markdown",
      "metadata": {
        "id": "eia_EWH-v8vn"
      },
      "source": [
        "clone the darknet project"
      ]
    },
    {
      "cell_type": "code",
      "metadata": {
        "id": "oN2N-AadtYLy"
      },
      "source": [
        "#Clone the github repo of darknet project \n",
        "!git clone https://github.com/AlexeyAB/darknet.git"
      ],
      "execution_count": null,
      "outputs": []
    },
    {
      "cell_type": "code",
      "metadata": {
        "id": "s5aYZTCMttb3"
      },
      "source": [
        "#Once succesfull cloning is done, you should be able to see a folder named 'darknet' where the project has been downloaded\n",
        "#Move to the 'darknet' directory\n",
        "%cd darknet"
      ],
      "execution_count": null,
      "outputs": []
    },
    {
      "cell_type": "markdown",
      "metadata": {
        "id": "dtst2aabwiKW"
      },
      "source": [
        "###  1st: change settings in the Makefile to enable GPU processing, CUDA, and OpenCV"
      ]
    },
    {
      "cell_type": "code",
      "metadata": {
        "id": "cSAZRxYhuppR"
      },
      "source": [
        "#Using the below line of python command, you are changing configuration in Makefile to enable GPU processing\n",
        "!sed -i 's/GPU=0/GPU=1/g' Makefile"
      ],
      "execution_count": null,
      "outputs": []
    },
    {
      "cell_type": "code",
      "metadata": {
        "id": "LJHQ7r4jwDI2"
      },
      "source": [
        "#Using the below line of python command, you are changing configuration in Makefile to enable CUDA\n",
        "\n",
        "!sed -i 's/CUDNN=0/CUDNN=1/g' Makefile"
      ],
      "execution_count": null,
      "outputs": []
    },
    {
      "cell_type": "code",
      "metadata": {
        "id": "rm2dM86vwF1q"
      },
      "source": [
        "#Using the below line of python command, you are changing configuration in Makefile to enable OpenCV\n",
        "\n",
        "!sed -i 's/OPENCV=0/OPENCV=1/g' Makefile"
      ],
      "execution_count": null,
      "outputs": []
    },
    {
      "cell_type": "markdown",
      "metadata": {
        "id": "tA4RXd6q1DG3"
      },
      "source": [
        "confirm changes"
      ]
    },
    {
      "cell_type": "code",
      "metadata": {
        "id": "80ryikw0uxTa"
      },
      "source": [
        "#To make sure all the changes has been done properly, you can have a look at the Makefile\n",
        "!head Makefile"
      ],
      "execution_count": null,
      "outputs": []
    },
    {
      "cell_type": "markdown",
      "metadata": {
        "id": "PLVySSMFlObs"
      },
      "source": [
        "Click on the darknet folder on the left side of the workspace and double click on the Makefile to open it on the right in this window.\n",
        "\n",
        "Scroll down to line 20: ARCH = ...\n",
        "and delete the two lines:\n",
        "\n",
        "**-gencode arch=compute_35,code=sm_35 \\**\n",
        "\n",
        "**-gencode arch=compute_50,code=[sm_50,compute_50] \\**\n",
        "\n",
        "as CUDA no longer supports  these GPU architectures.\n",
        "\n",
        "The new text block should be as follows:\n",
        "\n",
        "**ARCH= -gencode arch=compute_52,code=[sm_52,compute_52] \\\n",
        "        -gencode arch=compute_61,code=[sm_61,compute_61]**\n"
      ]
    },
    {
      "cell_type": "markdown",
      "metadata": {
        "id": "ssubpzrCfZzB"
      },
      "source": [
        "create a ```model``` directory in your Google Drive and store all critical files there\n"
      ]
    },
    {
      "cell_type": "code",
      "metadata": {
        "id": "PTJmcK9tfmcg"
      },
      "source": [
        "#In the below line of code, you are creating a directory called 'custom_object' in your drive where you will be storing all critical files\n",
        "%mkdir ../drive/MyDrive/custom_object/\n",
        "#In the below line of code, you are copying the Makefile in the newly created drive folder (custom_object)\n",
        "%cp Makefile ../drive/MyDrive/custom_object/"
      ],
      "execution_count": null,
      "outputs": []
    },
    {
      "cell_type": "markdown",
      "metadata": {
        "id": "rFsPYUXtylBx"
      },
      "source": [
        "### 2nd: Get pretrained weights for new training and testing "
      ]
    },
    {
      "cell_type": "code",
      "metadata": {
        "id": "S8MB2dzVzow-"
      },
      "source": [
        "#To keep the project organised, its important to have segregate folders\n",
        "#Let's have a seperate folder called 'customization' where you will be storing pretrained weights for training and testing\n",
        "%mkdir customization\n",
        "#Move to 'customization' directory\n",
        "%cd customization"
      ],
      "execution_count": null,
      "outputs": []
    },
    {
      "cell_type": "code",
      "metadata": {
        "id": "EBd_YoyTz_CV"
      },
      "source": [
        "#get the pre-trained weights from darknet project on github repo\n",
        "!wget https://github.com/AlexeyAB/darknet/releases/download/darknet_yolo_v3_optimal/yolov4.weights\n",
        "!wget https://github.com/AlexeyAB/darknet/releases/download/darknet_yolo_v3_optimal/yolov4.conv.137"
      ],
      "execution_count": null,
      "outputs": []
    },
    {
      "cell_type": "code",
      "metadata": {
        "id": "83ogUESCw2RV"
      },
      "source": [
        "#For backup purpose, store the weights file in the backup file you created on google drive\n",
        "%cp yolov4.weights ../../drive/MyDrive/custom_object/"
      ],
      "execution_count": null,
      "outputs": []
    },
    {
      "cell_type": "markdown",
      "metadata": {
        "id": "taOLLdbF1NWM"
      },
      "source": [
        "### 3d: create a new custom network configuration file \n",
        "\n",
        "make a new copy of the original configuration file"
      ]
    },
    {
      "cell_type": "code",
      "metadata": {
        "id": "NNR3Ud2H1ZIB"
      },
      "source": [
        "#We are creating a custom model specific to our use case so you will need to do few changes in the configuration file as well\n",
        "#Instead of doing direct changes in the cloned configuration file, let's create a copy of the yolov4.cfg file\n",
        "%cp ../cfg/yolov4.cfg ."
      ],
      "execution_count": null,
      "outputs": []
    },
    {
      "cell_type": "markdown",
      "metadata": {
        "id": "dI286itE_cGr"
      },
      "source": [
        " Double click on yolov4.cfg in darknet -> customization directory to open it on the left in this window for editing. See [instructions](https://github.com/AlexeyAB/darknet#how-to-train-to-detect-your-custom-objects) for more details.\n",
        "- change the following:\n",
        "  1. line 3: a subdivision is the number of tiles each image is cut to for GPU processing. Change this from: **subdivisions=8 -> subdivisions=64**\n",
        "  2. line 7: the resized image’s width. Change this from **width=608 -> width=416**\n",
        "  3. line 8: the resized image’s height. Change  this from **height=608 -> height=416**\n",
        "  4. line 19: max_batches is equal to classes\\*2000 but not less than the number of training images and not less than 6000. Change this from **max_batches = 500500 -> 4000** for our two classes.\n",
        "  5. line 21: change line steps to 80% and 90% of max_batches. We use a single step for memory efficiency. Change this from **steps=400000,450000 -> steps=3200**\n",
        "- change the last set of filters before each output layer:\n",
        "  1. line 961, 1049, 1137: change from **filters=255 -> filters=21**. The rule is (classes + 5)x3 in the 3 [convolutional] before each [yolo] layer. Keep in mind that it only has to be the last [convolutional] before each of the [yolo] layers.\n",
        "- change the number of classes in each output layer:\n",
        "  1. line 968, 1056, 1144: change from **classes=80 ->classes=2**.\n",
        " \n",
        "- Press Ctrl+S to save the edited cfg file.\n",
        "\n",
        "**REMARK**\n",
        " \n",
        "The **max_batches** entry is set to 4000 based on the YOLO guidelines but this will result in approximately 10h of training. Since it was observed empirically that the best network weights are obtained before 2000 epochs, it is recommended to change the following to:\n",
        " \n",
        "- **max_batches = 2000**\n",
        "- **steps = 1600**"
      ]
    },
    {
      "cell_type": "code",
      "metadata": {
        "id": "8cgzKTElAyAL"
      },
      "source": [
        "#After doing changes, open the yolov4.cfg file, and verify if all the changes has been done or not\n",
        "!cat yolov4.cfg"
      ],
      "execution_count": null,
      "outputs": []
    },
    {
      "cell_type": "markdown",
      "metadata": {
        "id": "hKPVWg0JgLHQ"
      },
      "source": [
        "back it up"
      ]
    },
    {
      "cell_type": "code",
      "metadata": {
        "id": "FlvCOhzPgNgv"
      },
      "source": [
        "#Copy the changed yolov4.cfg file to the backup folder you created in google drive\n",
        "%cp yolov4.cfg ../../drive/MyDrive/custom_object/"
      ],
      "execution_count": null,
      "outputs": []
    },
    {
      "cell_type": "markdown",
      "metadata": {
        "id": "jB9dN1Io78DA"
      },
      "source": [
        "## Get the data"
      ]
    },
    {
      "cell_type": "markdown",
      "metadata": {
        "id": "D8uTAELrJ71e"
      },
      "source": [
        "### 1st: Create the directories"
      ]
    },
    {
      "cell_type": "code",
      "metadata": {
        "id": "dH-k6RaOKFUz"
      },
      "source": [
        "#Now we will create directory called 'custom_data' and two subdirectories 'images' and 'labels' where all \n",
        "#the images and labels of the input data will be stored\n",
        "\n",
        "%cd ../\n",
        "%mkdir custom_data\n",
        "%cd custom_data\n",
        "%mkdir images\n",
        "%mkdir labels"
      ],
      "execution_count": null,
      "outputs": []
    },
    {
      "cell_type": "markdown",
      "metadata": {
        "id": "i7SVaEPJPCet"
      },
      "source": [
        "### 2nd: create or login to your kaggle account ([www.kaggle.com](www.kaggle.com)).  \n",
        "\n",
        "- go to https://www.kaggle.com/saurah403/face-mask-detectionimages-with-yolo-format/download and click on download. Store the compressed file in your local drive and then upload it into your Google Drive. In the example below modify the path accordingly."
      ]
    },
    {
      "cell_type": "code",
      "metadata": {
        "id": "3K_rahYTPTOM"
      },
      "source": [
        "#You have downloaded the zipped file of dataset in your google drive, next task is to copy the zipped file in your google colab environment \n",
        "%cd ./images/\n",
        "#Note that the archive.zip file is located in this directory: MyDrive->object_detection->data\n",
        "%cp /content/drive/MyDrive/object_detection/data/archive.zip .\n",
        "\n",
        "#One you successfully copy the zipped file(archive.zip), next task is to unzip the file to get all images and labels data\n",
        "!unzip archive.zip -d .\n",
        "#To optimise the space, you can remove the archive.zip file as it won't be used further\n",
        "%rm archive.zip"
      ],
      "execution_count": null,
      "outputs": []
    },
    {
      "cell_type": "code",
      "metadata": {
        "id": "fh7ijYc_ThSw"
      },
      "source": [
        "#move all images from custom_data->images->images folder to custom_data->images path\n",
        "\n",
        "%mv ./images/* . \n",
        "%rm -r images/"
      ],
      "execution_count": null,
      "outputs": []
    },
    {
      "cell_type": "markdown",
      "metadata": {
        "id": "DaXtW9WsWcSN"
      },
      "source": [
        "Check the image formats and convert all non jpg images to JPG format if necessary, and remove the originals"
      ]
    },
    {
      "cell_type": "code",
      "metadata": {
        "id": "Z3lKdxeXfG3c"
      },
      "source": [
        "#find the type of extensions present in the images folder\n",
        "\n",
        "!find . -type f | awk -F. '!a[$NF]++{print $NF}'"
      ],
      "execution_count": null,
      "outputs": []
    },
    {
      "cell_type": "code",
      "metadata": {
        "id": "0quxpoR7dnqT"
      },
      "source": [
        "#Check the image formats and convert all non jpg images to JPG format if necessary, and remove the originals\n",
        "\n",
        "from glob import glob                                                           \n",
        "pngs = glob('./*.png')\n",
        "\n",
        "for j in pngs:\n",
        "    img = cv2.imread(j)\n",
        "    cv2.imwrite(j[:-3] + 'jpg', img)"
      ],
      "execution_count": null,
      "outputs": []
    },
    {
      "cell_type": "code",
      "metadata": {
        "id": "IhqwzzBnd8ja"
      },
      "source": [
        "#You can remove files with .png extensions as only jpg format is required\n",
        "%rm *.png "
      ],
      "execution_count": null,
      "outputs": []
    },
    {
      "cell_type": "markdown",
      "metadata": {
        "id": "BmNG03y8fbLA"
      },
      "source": [
        "### 3rd: populate the labels/ directory"
      ]
    },
    {
      "cell_type": "code",
      "metadata": {
        "id": "X_aXCRhYffRQ"
      },
      "source": [
        "#Next you would move all the .txt extension files to 'labels' directory\n",
        "%cp *.txt ../labels/"
      ],
      "execution_count": null,
      "outputs": []
    },
    {
      "cell_type": "markdown",
      "metadata": {
        "id": "cUo80HGLgN_u"
      },
      "source": [
        "### 4th: create the auxiliary files"
      ]
    },
    {
      "cell_type": "code",
      "metadata": {
        "id": "ovX-_d2sgTfl"
      },
      "source": [
        "%cd ../\n",
        "\n",
        "#Create the following files:training_data.txt, validation_data.txt, face_mask_classes.names, face_mask.data\n",
        "\n",
        "!touch training_data.txt\n",
        "!touch validation_data.txt\n",
        "!touch face_mask_classes.names\n",
        "!touch face_mask.data"
      ],
      "execution_count": null,
      "outputs": []
    },
    {
      "cell_type": "markdown",
      "metadata": {
        "id": "C6w6fyYbiMG0"
      },
      "source": [
        "append class names in face_mask_classes.names"
      ]
    },
    {
      "cell_type": "code",
      "metadata": {
        "id": "jZNzFVUAiQla"
      },
      "source": [
        "#There are two classes in our case: \"no face mask\" and \"face mask\"\n",
        "!echo \"no face mask\" >> face_mask_classes.names\n",
        "!echo \"face mask\" >> face_mask_classes.names"
      ],
      "execution_count": null,
      "outputs": []
    },
    {
      "cell_type": "markdown",
      "metadata": {
        "id": "UUb3tb3JjElX"
      },
      "source": [
        "configure the data file"
      ]
    },
    {
      "cell_type": "code",
      "metadata": {
        "id": "GSHKhh9xjAaE"
      },
      "source": [
        "#Next you add relevant information as per use case in the face_mask.data file\n",
        "!echo \"classes = 2\" >> face_mask.data\n",
        "!echo \"train = custom_data/training_data.txt\" >> face_mask.data\n",
        "!echo \"valid = custom_data/validation_data.txt\" >> face_mask.data\n",
        "!echo \"names = custom_data/face_mask_classes.names\" >> face_mask.data\n",
        "!echo \"backup = backup/\" >> face_mask.data"
      ],
      "execution_count": null,
      "outputs": []
    },
    {
      "cell_type": "code",
      "metadata": {
        "id": "V_8bZtryj3Bo"
      },
      "source": [
        "#Verify if all the changes you did are reflecting in the face_mask.data file\n",
        "\n",
        "!head face_mask.data"
      ],
      "execution_count": null,
      "outputs": []
    },
    {
      "cell_type": "markdown",
      "metadata": {
        "id": "gQDOdtziwiB3"
      },
      "source": [
        "back them up"
      ]
    },
    {
      "cell_type": "code",
      "metadata": {
        "id": "oE3O2Jfngd3n"
      },
      "source": [
        "#Backeup the auxillary files you created in your google drive\n",
        "%cp face_mask.data ../../drive/MyDrive/custom_object/\n",
        "%cp face_mask_classes.names ../../drive/MyDrive/custom_object/"
      ],
      "execution_count": null,
      "outputs": []
    },
    {
      "cell_type": "markdown",
      "metadata": {
        "id": "3oi7uIiLqDwb"
      },
      "source": [
        "### 5th: split the data into train and validation sets \n",
        "\n",
        "and populate the two respective text files with the appropriate file names"
      ]
    },
    {
      "cell_type": "code",
      "metadata": {
        "id": "aVZ0_LxjtsWI"
      },
      "source": [
        "#import relavant libraries\n",
        "from sklearn.model_selection import train_test_split\n",
        "import pandas as pd \n",
        "import os \n",
        "\n",
        "#populate all the jpg files to images folder\n",
        "PATH = 'images/'\n",
        "list_img=[img for img in os.listdir(PATH) if img.endswith('.jpg')==True]\n",
        "\n",
        "path_img=[]\n",
        "\n",
        "for i in range (len(list_img)):\n",
        "    path_img.append(PATH+list_img[i])\n",
        "\n",
        "#for splitting purpose convert the data file to a data frame   \n",
        "df=pd.DataFrame(path_img)\n",
        "\n",
        "# do the split of data frame in ration 80:20 (training size is 80% and test/validation size is 20% of total data size)\n",
        "data_train, data_test, labels_train, labels_test = train_test_split(df[0], df.index, test_size=0.20, random_state=42)"
      ],
      "execution_count": null,
      "outputs": []
    },
    {
      "cell_type": "code",
      "metadata": {
        "id": "Yvf0vbuouDXR"
      },
      "source": [
        "train_idx=list(data_train.index)\n",
        "test_idx=list(data_test.index)\n",
        "    \n",
        "# relative path to the binary \n",
        "relpath = \"custom_data/\"\n",
        "backup_path = \"/content/drive/MyDrive/custom_object/\"\n",
        "# Train file\n",
        "# Open a file with access mode 'a'\n",
        "with open(\"training_data.txt\", \"a\") as file_object:\n",
        "  for i in range(len(train_idx)):\n",
        "    file_object.write(relpath+data_train[train_idx[i]]+\"\\n\")   \n",
        "\n",
        "with open(\"validation_data.txt\", \"a\") as file_object:\n",
        "  for i in range(len(test_idx)):\n",
        "    file_object.write(relpath+data_test[test_idx[i]]+\"\\n\")"
      ],
      "execution_count": null,
      "outputs": []
    },
    {
      "cell_type": "markdown",
      "metadata": {
        "id": "QrspvKIjwomf"
      },
      "source": [
        "back them up"
      ]
    },
    {
      "cell_type": "code",
      "metadata": {
        "id": "wjjO8l7Ug7za"
      },
      "source": [
        "#Backup the training and validation data labels in your backup folder\n",
        "%cp training_data.txt ../../drive/MyDrive/custom_object/\n",
        "%cp validation_data.txt ../../drive/MyDrive/custom_object/"
      ],
      "execution_count": null,
      "outputs": []
    },
    {
      "cell_type": "markdown",
      "metadata": {
        "id": "WcSzM6GvRZr3"
      },
      "source": [
        "##  Compile DarkNet"
      ]
    },
    {
      "cell_type": "code",
      "metadata": {
        "id": "pLeGz71gRYOY"
      },
      "source": [
        "%cd .."
      ],
      "execution_count": null,
      "outputs": []
    },
    {
      "cell_type": "code",
      "metadata": {
        "id": "r13TTVATRm4f"
      },
      "source": [
        "#Compile the darknet project\n",
        "!make -j4"
      ],
      "execution_count": null,
      "outputs": []
    },
    {
      "cell_type": "markdown",
      "metadata": {
        "id": "fbMLLCwxSOax"
      },
      "source": [
        "## Test DarkNet with the COCO example data "
      ]
    },
    {
      "cell_type": "code",
      "metadata": {
        "id": "IzdOF1TjSVgR"
      },
      "source": [
        "!./darknet detector test cfg/coco.data cfg/yolov4.cfg customization/yolov4.weights data/person.jpg"
      ],
      "execution_count": null,
      "outputs": []
    },
    {
      "cell_type": "markdown",
      "metadata": {
        "id": "IsTjFNOQ1nSB"
      },
      "source": [
        "**confirm findings:**"
      ]
    },
    {
      "cell_type": "code",
      "metadata": {
        "id": "67TzXQCl1mrW"
      },
      "source": [
        "from google.colab.patches import cv2_imshow\n",
        "test_image = cv2.imread(\"data/person.jpg\")\n",
        "cv2_imshow(test_image)"
      ],
      "execution_count": null,
      "outputs": []
    },
    {
      "cell_type": "markdown",
      "metadata": {
        "id": "kfdDxgLcTaym"
      },
      "source": [
        "## Train a Custom Model"
      ]
    },
    {
      "cell_type": "markdown",
      "metadata": {
        "id": "WHifnVMsTfWx"
      },
      "source": [
        "### Create a backup directory for the weights"
      ]
    },
    {
      "cell_type": "code",
      "metadata": {
        "id": "gRtqaKuGTpAP"
      },
      "source": [
        "%rm -r /content/darknet/backup"
      ],
      "execution_count": null,
      "outputs": []
    },
    {
      "cell_type": "code",
      "metadata": {
        "id": "bheAbidQT27z"
      },
      "source": [
        "%mkdir ../drive/MyDrive/custom_object/backup/"
      ],
      "execution_count": null,
      "outputs": []
    },
    {
      "cell_type": "code",
      "metadata": {
        "id": "kd_1QqDMUYSX"
      },
      "source": [
        "!ln -s /content/drive/MyDrive/custom_object/backup/ /content/darknet/"
      ],
      "execution_count": null,
      "outputs": []
    },
    {
      "cell_type": "markdown",
      "metadata": {
        "id": "-FONcE0wVXie"
      },
      "source": [
        "### Train the model"
      ]
    },
    {
      "cell_type": "markdown",
      "metadata": {
        "id": "XTKHmBS6V0_v"
      },
      "source": [
        "Auxiliary parameters:\n",
        "\n",
        "- **map** flag:  if set, it generates a raster plot/graph of the loss and mean average precision\n",
        "- **dont_show** flag: if set, it prevents attempts to display the progress chart which may cause disruptions in the notebook environment\n"
      ]
    },
    {
      "cell_type": "code",
      "metadata": {
        "id": "FrrUxSQlVfUt"
      },
      "source": [
        "!./darknet detector train custom_data/face_mask.data customization/yolov4.cfg customization/yolov4.conv.137 -map -dont_show"
      ],
      "execution_count": null,
      "outputs": []
    },
    {
      "cell_type": "markdown",
      "metadata": {
        "id": "pm1UwlQqTB5C"
      },
      "source": [
        "It timed out after  9h 17m 45s with approximately 95% of the iterations completed. We used the best weights obtained "
      ]
    },
    {
      "cell_type": "markdown",
      "metadata": {
        "id": "PzPYYqmcXA-a"
      },
      "source": [
        "### While Training"
      ]
    },
    {
      "cell_type": "markdown",
      "metadata": {
        "id": "gJLSJP-GM6VX"
      },
      "source": [
        " \n",
        "- **progress chart**: there is an image file (PNG) generated periodically to report the latest mean average precision (mAP) vs the Loss value for each iteration. It can be found inside the darknet directory. You may download this to check the training progress.\n",
        "- **log**: there may be times when it stalls, but that is temporary and the  process is running in the background\n",
        "- **disconnection/timeout**: in this case, check your backup folder in Google Drive for which you created the symbolic link. You will find several weight files. Among them, there is one generated for every 1,000 iterations, one with the best weights computed (highest mAP and not  lowest Loss), and one with  the latest weights before timeout or training  completion. You may choose to reconnect the notebook and start from where you stopped by running the following:"
      ]
    },
    {
      "cell_type": "code",
      "metadata": {
        "id": "Avfz4syCPFeR"
      },
      "source": [
        "!./darknet detector train custom_data/face_mask.data customization/yolov4.cfg /content/drive/MyDrive/custom_object/backup/yolov4_last.weights -map -dont_show"
      ],
      "execution_count": null,
      "outputs": []
    },
    {
      "cell_type": "markdown",
      "metadata": {
        "id": "taUjE9X9XI-n"
      },
      "source": [
        "### Upon Training Completion"
      ]
    },
    {
      "cell_type": "markdown",
      "metadata": {
        "id": "S03pzoFqXYFb"
      },
      "source": [
        "Once training is complete, dowload the following:\n",
        "\n",
        "1. best weights file, i.e., ```MyDrive/custom_object/backup/yolov4_best.weights```\n",
        "2. the configuration file ```/content/darknet/customization/yolov4.cfg```\n",
        "3. the  summary chart image file ```/content/darknet/chart_yolov4.png```\n",
        "\n",
        "\n",
        "to deploy the custom yolov4 object dector, please see the next notebook, titled *object_detection_yolov4_custom_model_deploy.ipynb*\n"
      ]
    }
  ]
}